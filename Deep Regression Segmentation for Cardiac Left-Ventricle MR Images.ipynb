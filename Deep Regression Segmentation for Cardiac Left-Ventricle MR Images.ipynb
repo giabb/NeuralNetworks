{
  "nbformat": 4,
  "nbformat_minor": 0,
  "metadata": {
    "colab": {
      "name": "NN.ipynb",
      "provenance": [],
      "collapsed_sections": [],
      "include_colab_link": true
    },
    "kernelspec": {
      "name": "python3",
      "display_name": "Python 3"
    }
  },
  "cells": [
    {
      "cell_type": "markdown",
      "metadata": {
        "id": "view-in-github",
        "colab_type": "text"
      },
      "source": [
        "<a href=\"https://colab.research.google.com/github/giabb/NeuralNetworks/blob/main/Deep%20Regression%20Segmentation%20for%20Cardiac%20Left-Ventricle%20MR%20Images.ipynb\" target=\"_parent\"><img src=\"https://colab.research.google.com/assets/colab-badge.svg\" alt=\"Open In Colab\"/></a>"
      ]
    },
    {
      "cell_type": "markdown",
      "metadata": {
        "id": "nbJZIKhACifc"
      },
      "source": [
        "#Neural Networks Exam\n",
        "#\"Sapienza\" University of Rome - Spring Semester 2019\n",
        "##[@giabb](https://github.com/giabb) - [@FabioDiS](https://github.com/FabioDiS)\n",
        "##Deep Regression Segmentation for Cardiac Left-Ventricle MR Images"
      ]
    },
    {
      "cell_type": "markdown",
      "metadata": {
        "id": "zNVcPZyRDP8J"
      },
      "source": [
        "#Importing Libraries"
      ]
    },
    {
      "cell_type": "code",
      "metadata": {
        "id": "e0QyU9LT5NSe"
      },
      "source": [
        "!pip install opencv-python==4.1.0.25\n",
        "!pip install tensorflow-gpu"
      ],
      "execution_count": null,
      "outputs": []
    },
    {
      "cell_type": "code",
      "metadata": {
        "id": "irdqBuYQTlTC",
        "colab": {
          "base_uri": "https://localhost:8080/",
          "height": 184
        },
        "outputId": "8f7061f6-9bdb-49d6-a84a-3f621b3bd8bb"
      },
      "source": [
        "#used to access files on drive\n",
        "from google.colab import drive\n",
        "drive.mount('/content/gdrive')\n",
        "\n",
        "#utils\n",
        "import cv2\n",
        "print('Cv2 version:',cv2.__version__)\n",
        "import matplotlib.pyplot as plt\n",
        "%matplotlib inline\n",
        "import numpy as np\n",
        "from scipy.io import loadmat\n",
        "from skimage.feature import daisy\n",
        "\n",
        "#training utilities\n",
        "from sklearn.model_selection import LeaveOneOut\n",
        "from sklearn.model_selection import train_test_split\n",
        "\n",
        "#Keras imports\n",
        "import tensorflow as tf\n",
        "from tensorflow.keras import Sequential\n",
        "from tensorflow.keras.layers import Dense, Dropout\n",
        "print('Tensorflow version:',tf.__version__)\n",
        "\n",
        "#various tools for analysis\n",
        "from scipy.spatial import ConvexHull\n",
        "from shapely.geometry.multipoint import MultiPoint\n",
        "from shapely.geometry import Polygon\n",
        "from osgeo import ogr\n",
        "from scipy.stats import pearsonr as pcc\n",
        "from scipy.spatial.distance import directed_hausdorff as dh\n",
        "\n",
        "#checking if tensorflow/keras is working on the GPU\n",
        "tf.reset_default_graph()\n",
        "try:\n",
        "  with tf.device('/device:GPU:0'):\n",
        "      a = tf.constant([1.0, 2.0, 3.0, 4.0, 5.0, 6.0], shape=[2, 3], name='a')\n",
        "      b = tf.constant([1.0, 2.0, 3.0, 4.0, 5.0, 6.0], shape=[3, 2], name='b')\n",
        "      c = tf.matmul(a, b)\n",
        "      # Creates a session with log_device_placement set to True.\n",
        "      sess = tf.Session(config=tf.ConfigProto(log_device_placement=True))\n",
        "      # Runs the op.\n",
        "      r = sess.run(c)\n",
        "      print('Using GPU')\n",
        "except:\n",
        "  print('Not using gpu')"
      ],
      "execution_count": null,
      "outputs": [
        {
          "output_type": "stream",
          "text": [
            "Go to this URL in a browser: https://accounts.google.com/o/oauth2/auth?client_id=947318989803-6bn6qk8qdgf4n4g3pfee6491hc0brc4i.apps.googleusercontent.com&redirect_uri=urn%3Aietf%3Awg%3Aoauth%3A2.0%3Aoob&scope=email%20https%3A%2F%2Fwww.googleapis.com%2Fauth%2Fdocs.test%20https%3A%2F%2Fwww.googleapis.com%2Fauth%2Fdrive%20https%3A%2F%2Fwww.googleapis.com%2Fauth%2Fdrive.photos.readonly%20https%3A%2F%2Fwww.googleapis.com%2Fauth%2Fpeopleapi.readonly&response_type=code\n",
            "\n",
            "Enter your authorization code:\n",
            "··········\n",
            "Mounted at /content/gdrive\n",
            "Cv2 version: 4.1.0\n",
            "Tensorflow version: 1.14.0\n",
            "Using GPU\n"
          ],
          "name": "stdout"
        }
      ]
    },
    {
      "cell_type": "markdown",
      "metadata": {
        "id": "X1vnzrbyER1N"
      },
      "source": [
        "#Preprocessing"
      ]
    },
    {
      "cell_type": "code",
      "metadata": {
        "id": "MwhPITvKTtKs"
      },
      "source": [
        "#Loading matrices\n",
        "mat=loadmat('gdrive/My Drive/Progetto NN/datasets/cardiac-dig.mat')\n",
        "imms=mat['images_LV']\n",
        "endo=mat['endo_LV']\n",
        "epi=mat['epi_LV']\n",
        "rwt=mat['rwt']\n",
        "dims=mat['dims']\n",
        "mat_test=loadmat('gdrive/My Drive/Progetto NN/datasets/lvquan_test_images_30sub.mat')\n",
        "imms_test = mat_test['images_LV_30']"
      ],
      "execution_count": null,
      "outputs": []
    },
    {
      "cell_type": "markdown",
      "metadata": {
        "id": "O5YT-3AKEYaV"
      },
      "source": [
        "##Showing the starting binary mask before and after edge detection"
      ]
    },
    {
      "cell_type": "code",
      "metadata": {
        "id": "L-o-1glwpuXn",
        "colab": {
          "base_uri": "https://localhost:8080/",
          "height": 521
        },
        "outputId": "e1694b6e-e546-40f9-9f8f-a26fa60b9e6c"
      },
      "source": [
        "plt.imshow(epi[:,:,0]-endo[:,:,0])\n",
        "plt.show()\n",
        "plt.imshow(cv2.Canny(epi[:,:,0]-endo[:,:,0],0,0))\n",
        "plt.show()"
      ],
      "execution_count": null,
      "outputs": [
        {
          "output_type": "display_data",
          "data": {
            "image/png": "[encoded data removed]",
            "text/plain": [
              "<Figure size 432x288 with 1 Axes>"
            ]
          },
          "metadata": {
            "tags": []
          }
        },
        {
          "output_type": "display_data",
          "data": {
            "image/png": "[encoded data removed]",
            "text/plain": [
              "<Figure size 432x288 with 1 Axes>"
            ]
          },
          "metadata": {
            "tags": []
          }
        }
      ]
    },
    {
      "cell_type": "markdown",
      "metadata": {
        "id": "1Tj8F6OfE6Bd"
      },
      "source": [
        "## Finding the maximum index for the endocardium image dataset"
      ]
    },
    {
      "cell_type": "code",
      "metadata": {
        "id": "rcE-B1f4T8-G",
        "colab": {
          "base_uri": "https://localhost:8080/",
          "height": 54
        },
        "outputId": "c94d6348-fc65-4e46-f7cc-9ce35a253911"
      },
      "source": [
        "maxind = 0\n",
        "minind = 200\n",
        "for i in range(0,2900):\n",
        "    img=endo[:,:,i]\n",
        "    \n",
        "    #Find contour\n",
        "    cnts, _ = cv2.findContours(img, cv2.RETR_EXTERNAL, cv2.CHAIN_APPROX_NONE)\n",
        "    mina=255\n",
        "    maxa=0\n",
        "    minb=255\n",
        "    maxb=0\n",
        "    for j in range(len(cnts[0])):\n",
        "        a=cnts[0][j][0][1]\n",
        "        b=cnts[0][j][0][0]\n",
        "        mina=min(mina,a) #minimum value over the x\n",
        "        maxa=max(maxa,a) #maximum value over the x\n",
        "        minb=min(minb,b) #minimum value over the y\n",
        "        maxb=max(maxb,b) #maximum value over the y\n",
        "    cent_x = int((mina+maxa))/2\n",
        "    cent_y = int((minb+maxb))/2\n",
        "    center = (cent_y,cent_x)\n",
        "    \n",
        "    # Center contour\n",
        "    cnt = np.squeeze(cnts[0]) - center\n",
        "\n",
        "    # Calculate atan2 values, and sort by angle\n",
        "    val = np.sort(np.arctan2(cnt[:, 0], cnt[:, 1]))\n",
        "    idx = np.argsort(np.arctan2(cnt[:, 0], cnt[:, 1]))\n",
        "\n",
        "    # atan2 uses (1, 0) as starting point, so correct by 1/2 * pi\n",
        "    corr = np.where(val <= (-0.5 * np.pi))[0][-1]\n",
        "\n",
        "    # Build final indices\n",
        "    indFinal = np.concatenate((idx[corr - 1:], idx[0:corr]))\n",
        "    x = cnt[indFinal, 0]\n",
        "    y = cnt[indFinal, 1]\n",
        "    x = x + cent_y\n",
        "    y = y + cent_x\n",
        "    \n",
        "    # get maximum and minimum index\n",
        "    maxind = max(maxind, len(x))\n",
        "    minind = min(minind, len(x))\n",
        "    \n",
        "print('maxind:',maxind)\n",
        "print('minind:',minind)\n"
      ],
      "execution_count": null,
      "outputs": [
        {
          "output_type": "stream",
          "text": [
            "maxind: 119\n",
            "minind: 41\n"
          ],
          "name": "stdout"
        }
      ]
    },
    {
      "cell_type": "markdown",
      "metadata": {
        "id": "EUwXwGB3FfGZ"
      },
      "source": [
        "##Sorting endocardium boundary points clockwise\n",
        "###Explained in details in the report"
      ]
    },
    {
      "cell_type": "code",
      "metadata": {
        "id": "9zqm7A6qUAp4"
      },
      "source": [
        "x_pad_endo = np.zeros(shape=((2900),maxind))\n",
        "y_pad_endo = np.zeros(shape=((2900),maxind))\n",
        "cont = 0\n",
        "for i in range(2900):\n",
        "  img=endo[:,:,i]\n",
        "  #Find contours\n",
        "  cnts, _ = cv2.findContours(img, cv2.RETR_EXTERNAL, cv2.CHAIN_APPROX_NONE)\n",
        "  mina=255\n",
        "  maxa=0\n",
        "  minb=255\n",
        "  maxb=0\n",
        "  for j in range(len(cnts[0])):\n",
        "    a=cnts[0][j][0][1]\n",
        "    b=cnts[0][j][0][0]\n",
        "    mina=min(mina,a)  #minimum value over the x\n",
        "    maxa=max(maxa,a)  #maximum value over the x\n",
        "    minb=min(minb,b)  #minimum value over the y\n",
        "    maxb=max(maxb,b)  #maximum value over the y\n",
        "  cent_x = int((mina+maxa))/2\n",
        "  cent_y = int((minb+maxb))/2\n",
        "  center = (cent_y,cent_x)\n",
        "  \n",
        "  # Center contour\n",
        "  cnt = np.squeeze(cnts[0]) - center\n",
        "\n",
        "  # Calculate atan2 values, and sort by angle\n",
        "  val = np.sort(np.arctan2(cnt[:, 0], cnt[:, 1]))\n",
        "  idx = np.argsort(np.arctan2(cnt[:, 0], cnt[:, 1]))\n",
        "\n",
        "  # atan2 uses (1, 0) as starting point, so correct by 1/2 * pi\n",
        "  corr = np.where(val <= (-0.5 * np.pi))[0][-1]\n",
        "\n",
        "  # Build final indices\n",
        "  indFinal = np.concatenate((idx[corr - 1:], idx[0:corr]))\n",
        "  x = cnt[indFinal, 0]\n",
        "  y = cnt[indFinal, 1]\n",
        "  x = x + cent_y\n",
        "  y = y + cent_x\n",
        "\n",
        "  # Padding \n",
        "  x_pad_endo[i] = np.pad(x,(0,maxind-len(x)),'edge')#'constant', constant_values=(0,0))\n",
        "  y_pad_endo[i] = np.pad(y,(0,maxind-len(y)),'edge')#'constant', constant_values=(0,0))\n",
        "  "
      ],
      "execution_count": null,
      "outputs": []
    },
    {
      "cell_type": "markdown",
      "metadata": {
        "id": "N2fyaTvKF_hR"
      },
      "source": [
        "##Finding the maximum index for the epicardium image dataset"
      ]
    },
    {
      "cell_type": "code",
      "metadata": {
        "id": "qdelX3Az5rka",
        "colab": {
          "base_uri": "https://localhost:8080/",
          "height": 54
        },
        "outputId": "ead6e012-1f98-442f-92be-38c5f4aa0cbc"
      },
      "source": [
        "maxind = 0\n",
        "minind = 200\n",
        "for i in range(0,2900):\n",
        "    img=epi[:,:,i]\n",
        "    \n",
        "    #Find contours\n",
        "    cnts, _ = cv2.findContours(img, cv2.RETR_EXTERNAL, cv2.CHAIN_APPROX_NONE)\n",
        "    mina=255\n",
        "    maxa=0\n",
        "    minb=255\n",
        "    maxb=0\n",
        "    for j in range(len(cnts[0])):\n",
        "        a=cnts[0][j][0][1]\n",
        "        b=cnts[0][j][0][0]\n",
        "        mina=min(mina,a) #minimum value over the x\n",
        "        maxa=max(maxa,a) #maximum value over the x\n",
        "        minb=min(minb,b) #minimum value over the y\n",
        "        maxb=max(maxb,b) #maximum value over the y\n",
        "    cent_x = int((mina+maxa))/2\n",
        "    cent_y = int((minb+maxb))/2\n",
        "    center = (cent_y,cent_x)\n",
        "    \n",
        "    #center contour\n",
        "    cnt = np.squeeze(cnts[0]) - center\n",
        "\n",
        "    # Calculate atan2 values, and sort\n",
        "    val = np.sort(np.arctan2(cnt[:, 0], cnt[:, 1]))\n",
        "    idx = np.argsort(np.arctan2(cnt[:, 0], cnt[:, 1]))\n",
        "\n",
        "    # atan2 uses (1, 0) as starting point, so correct by 1/2 * pi\n",
        "    corr = np.where(val <= (-0.5 * np.pi))[0][-1]\n",
        "\n",
        "    # Build final indices\n",
        "    indFinal = np.concatenate((idx[corr - 1:], idx[0:corr]))\n",
        "    x = cnt[indFinal, 0]\n",
        "    y = cnt[indFinal, 1]\n",
        "    x = x + cent_y\n",
        "    y = y + cent_x\n",
        "    \n",
        "    # Find maximum and minimum index\n",
        "    maxind = max(maxind, len(x))\n",
        "    minind = min(minind, len(x))\n",
        "    \n",
        "print('maxind:',maxind)\n",
        "print('minind:',minind)"
      ],
      "execution_count": null,
      "outputs": [
        {
          "output_type": "stream",
          "text": [
            "maxind: 157\n",
            "minind: 85\n"
          ],
          "name": "stdout"
        }
      ]
    },
    {
      "cell_type": "markdown",
      "metadata": {
        "id": "Q-LrBDCFGMmy"
      },
      "source": [
        "##Sorting epicardium boundary points clockwise\n",
        "###Explained in details in the report"
      ]
    },
    {
      "cell_type": "code",
      "metadata": {
        "id": "4Bd_k3mE5vaK"
      },
      "source": [
        "x_pad_epi = np.zeros(shape=((2900),maxind))\n",
        "y_pad_epi = np.zeros(shape=((2900),maxind))\n",
        "cont = 0\n",
        "for i in range(2900):\n",
        "  img=epi[:,:,i]\n",
        "  #Find contours\n",
        "  cnts, _ = cv2.findContours(img, cv2.RETR_EXTERNAL, cv2.CHAIN_APPROX_NONE)\n",
        "  mina=255\n",
        "  maxa=0\n",
        "  minb=255\n",
        "  maxb=0\n",
        "  for j in range(len(cnts[0])):\n",
        "    a=cnts[0][j][0][1]\n",
        "    b=cnts[0][j][0][0]\n",
        "    mina=min(mina,a) #minimum value over the x\n",
        "    maxa=max(maxa,a) #maximum value over the x\n",
        "    minb=min(minb,b) #minimum value over the y\n",
        "    maxb=max(maxb,b) #maximum value over the y\n",
        "  cent_x = int((mina+maxa))/2\n",
        "  cent_y = int((minb+maxb))/2\n",
        "  center = (cent_y,cent_x)\n",
        "  \n",
        "  # Center contour\n",
        "  cnt = np.squeeze(cnts[0]) - center\n",
        "\n",
        "  # Calculate atan2 values, and sort\n",
        "  val = np.sort(np.arctan2(cnt[:, 0], cnt[:, 1]))\n",
        "  idx = np.argsort(np.arctan2(cnt[:, 0], cnt[:, 1]))\n",
        "\n",
        "  # atan2 uses (1, 0) as starting point, so correct by 1/2 * pi\n",
        "  corr = np.where(val <= (-0.5 * np.pi))[0][-1]\n",
        "\n",
        "  # Build final indices\n",
        "  indFinal = np.concatenate((idx[corr - 1:], idx[0:corr]))\n",
        "  x = cnt[indFinal, 0]\n",
        "  y = cnt[indFinal, 1]\n",
        "  x = x + cent_y\n",
        "  y = y + cent_x\n",
        "\n",
        "  # Padding\n",
        "  x_pad_epi[i] = np.pad(x,(0,maxind-len(x)),'edge')#'constant', constant_values=(0,0))\n",
        "  y_pad_epi[i] = np.pad(y,(0,maxind-len(y)),'edge')#'constant', constant_values=(0,0))"
      ],
      "execution_count": null,
      "outputs": []
    },
    {
      "cell_type": "markdown",
      "metadata": {
        "id": "BQtzRFvwHiFK"
      },
      "source": [
        "##Daisy feature extraction\n",
        "###Also showing an example of DAISY features applied on the starting image and reshaped in a heatmap."
      ]
    },
    {
      "cell_type": "code",
      "metadata": {
        "id": "RV0AD5Lf5yx6",
        "colab": {
          "base_uri": "https://localhost:8080/",
          "height": 638
        },
        "outputId": "5f2c7e66-f966-462b-f8ad-f86b5bb9f00a"
      },
      "source": [
        "flag = False\n",
        "for i in range(0,2900):\n",
        "  descs, descs_img = daisy(imms[:,:,i], step=20, radius=15, rings=2, histograms=6, orientations=8, visualize=True)\n",
        "  descs = descs.reshape(1,INPUT_DIM)\n",
        "  if not flag:\n",
        "    flag = True\n",
        "    descs_reshape = descs\n",
        "    plt.imshow(descs_img)\n",
        "    plt.figure(figsize=(10,8/1.3))\n",
        "    plt.imshow(descs_reshape.reshape(39,24), cmap='viridis', interpolation='nearest')\n",
        "    plt.colorbar()\n",
        "  else:\n",
        "    descs_reshape = np.concatenate((descs_reshape, descs), axis=0) "
      ],
      "execution_count": null,
      "outputs": [
        {
          "output_type": "display_data",
          "data": {
            "image/png": "[encoded data removed]",
            "text/plain": [
              "<Figure size 432x288 with 1 Axes>"
            ]
          },
          "metadata": {
            "tags": []
          }
        },
        {
          "output_type": "display_data",
          "data": {
            "image/png": "[encoded data removed]",
            "text/plain": [
              "<Figure size 720x443.077 with 1 Axes>"
            ]
          },
          "metadata": {
            "tags": []
          }
        }
      ]
    },
    {
      "cell_type": "markdown",
      "metadata": {
        "id": "fIvSSeglIZdF"
      },
      "source": [
        "##Concatenating bounary points representation\n",
        "###In order to get an unic feature vector for each image"
      ]
    },
    {
      "cell_type": "code",
      "metadata": {
        "id": "ZIhH_Dst52Nl",
        "colab": {
          "base_uri": "https://localhost:8080/",
          "height": 72
        },
        "outputId": "ef9afb49-e5f9-405a-aaa2-e06f0b5543ef"
      },
      "source": [
        "boundaries_epi = np.zeros(shape=(2900,(x_pad_epi.shape[1]+y_pad_epi.shape[1])))\n",
        "boundaries_endo = np.zeros(shape=(2900,(x_pad_endo.shape[1]+y_pad_endo.shape[1])))\n",
        "boundaries_lv = np.zeros(shape=(2900,(boundaries_epi.shape[1]+boundaries_endo.shape[1])))\n",
        "for i in range(2900):\n",
        "    boundaries_epi[i] = np.concatenate((x_pad_epi[i],y_pad_epi[i]),axis=0)\n",
        "    boundaries_endo[i] = np.concatenate((x_pad_endo[i],y_pad_endo[i]),axis=0)\n",
        "    boundaries_lv[i] = np.concatenate((boundaries_epi[i],boundaries_endo[i]),axis=0)\n",
        "\n",
        "print(\"epi: \",boundaries_epi.shape)\n",
        "print(\"endo: \",boundaries_endo.shape)  \n",
        "print(\"lv: \",boundaries_lv.shape)"
      ],
      "execution_count": null,
      "outputs": [
        {
          "output_type": "stream",
          "text": [
            "epi:  (2900, 314)\n",
            "endo:  (2900, 238)\n",
            "lv:  (2900, 552)\n"
          ],
          "name": "stdout"
        }
      ]
    },
    {
      "cell_type": "markdown",
      "metadata": {
        "id": "nc208-VDI3dP"
      },
      "source": [
        "#Deep AutoEncoder for Regression"
      ]
    },
    {
      "cell_type": "markdown",
      "metadata": {
        "id": "HG7lNwVSJYtI"
      },
      "source": [
        "![Model Summary](https://drive.google.com/open?id=1UTEVsuI8Xe395SIfpfeP34Yq_TzEQrO3)"
      ]
    },
    {
      "cell_type": "code",
      "metadata": {
        "id": "R8Ki33a38Dxn",
        "colab": {
          "base_uri": "https://localhost:8080/",
          "height": 661
        },
        "outputId": "f514fe25-77c1-4097-d6c2-f276aca1b4be"
      },
      "source": [
        "#Auto Encoder\n",
        "model = Sequential()\n",
        "\n",
        "#Encode Layers\n",
        "model.add(Dense(768,activation=\"relu\",name='Encode_1',input_shape=(INPUT_DIM,)))\n",
        "model.add(Dropout(0.5, name='Dropout_1'))\n",
        "model.add(Dense(256, activation=\"relu\", name='Encode_2'))\n",
        "model.add(Dropout(0.5,name='Dropout_2'))\n",
        "model.add(Dense(128, activation=\"relu\", name='Encode_3'))\n",
        "model.add(Dropout(0.5,name='Dropout_3'))\n",
        "\n",
        "#Latent Space\n",
        "model.add(Dense(10, activation=\"sigmoid\", name='Latent_View'))\n",
        "\n",
        "#Decode Layers\n",
        "model.add(Dense(128, activation=\"relu\", name='Decode_1'))\n",
        "model.add(Dense(256, activation=\"relu\", name='Decode_2'))\n",
        "model.add(Dense(768, activation=\"relu\", name='Decode_3'))\n",
        "\n",
        "#Output\n",
        "model.add(Dense(552, activation = 'linear', name='Output'))\n",
        "\n",
        "#The choice of these functions is explained in the report\n",
        "model.compile(loss='mean_absolute_error', optimizer='RMSProp', metrics=['mse'])\n",
        "model.summary()"
      ],
      "execution_count": null,
      "outputs": [
        {
          "output_type": "stream",
          "text": [
            "WARNING: Logging before flag parsing goes to stderr.\n",
            "W0708 09:25:08.797433 139714423252864 deprecation.py:506] From /usr/local/lib/python3.6/dist-packages/tensorflow/python/ops/init_ops.py:1251: calling VarianceScaling.__init__ (from tensorflow.python.ops.init_ops) with dtype is deprecated and will be removed in a future version.\n",
            "Instructions for updating:\n",
            "Call initializer instance with the dtype argument instead of passing it to the constructor\n"
          ],
          "name": "stderr"
        },
        {
          "output_type": "stream",
          "text": [
            "Model: \"sequential\"\n",
            "_________________________________________________________________\n",
            "Layer (type)                 Output Shape              Param #   \n",
            "=================================================================\n",
            "Encode_1 (Dense)             (None, 768)               719616    \n",
            "_________________________________________________________________\n",
            "Dropout_1 (Dropout)          (None, 768)               0         \n",
            "_________________________________________________________________\n",
            "Encode_2 (Dense)             (None, 256)               196864    \n",
            "_________________________________________________________________\n",
            "Dropout_2 (Dropout)          (None, 256)               0         \n",
            "_________________________________________________________________\n",
            "Encode_3 (Dense)             (None, 128)               32896     \n",
            "_________________________________________________________________\n",
            "Dropout_3 (Dropout)          (None, 128)               0         \n",
            "_________________________________________________________________\n",
            "Latent_View (Dense)          (None, 10)                1290      \n",
            "_________________________________________________________________\n",
            "Decode_1 (Dense)             (None, 128)               1408      \n",
            "_________________________________________________________________\n",
            "Decode_2 (Dense)             (None, 256)               33024     \n",
            "_________________________________________________________________\n",
            "Decode_3 (Dense)             (None, 768)               197376    \n",
            "_________________________________________________________________\n",
            "Output (Dense)               (None, 552)               424488    \n",
            "=================================================================\n",
            "Total params: 1,606,962\n",
            "Trainable params: 1,606,962\n",
            "Non-trainable params: 0\n",
            "_________________________________________________________________\n"
          ],
          "name": "stdout"
        }
      ]
    },
    {
      "cell_type": "markdown",
      "metadata": {
        "id": "NRDr3xwkJxV1"
      },
      "source": [
        "##Defining a logger to better follow the training phase"
      ]
    },
    {
      "cell_type": "code",
      "metadata": {
        "id": "vlu3E__d8HuU"
      },
      "source": [
        "class AccuracyHistory(tf.keras.callbacks.Callback):  \n",
        "    def __init__(self):\n",
        "        self.acc = []\n",
        "        self.loss = []\n",
        "        self.val_acc = []\n",
        "        self.val_loss = []\n",
        "        self.iter = 1\n",
        "    \n",
        "    def on_train_begin(self, logs={}):\n",
        "        print(\"\\nStarting training, iteration {}\".format(self.iter))\n",
        "        self.epoch = 1\n",
        "\n",
        "    def on_epoch_end(self, batch, logs={}):\n",
        "        self.acc.append(logs.get('mean_squared_error'))\n",
        "        self.loss.append(logs.get('loss'))\n",
        "        self.val_acc.append(logs.get('val_mean_squared_error'))\n",
        "        self.val_loss.append(logs.get('val_loss'))\n",
        "        self.epoch += 1\n",
        "\n",
        "    def on_train_end(self, logs={}):\n",
        "        print(\"Ended training, iteration {}\".format(self.iter))\n",
        "        print('mean_squared_error:',self.acc[-1],'- loss:',self.loss[-1],'- val_mean_squared_error:',self.val_acc[-1],'- val_loss:',self.val_loss[-1])\n",
        "        #model.save('gdrive/My Drive/Progetto NN/logging/model_keras_iter{}.ckpt'.format(self.iter))\n",
        "        self.iter += 1"
      ],
      "execution_count": null,
      "outputs": []
    },
    {
      "cell_type": "markdown",
      "metadata": {
        "id": "3NJ2Myr4J1cL"
      },
      "source": [
        "##Leave-one-out \n",
        "###Implementation of the Leave-one-out cross-validation (but used as testing). Since the images in the dataset are just 2900, we chose to implement this method in order to randomize every 100 epochs the images, to improve performances."
      ]
    },
    {
      "cell_type": "code",
      "metadata": {
        "id": "uavJH-LX8K5P",
        "colab": {
          "base_uri": "https://localhost:8080/",
          "height": 1000
        },
        "outputId": "2172905b-4540-42f2-a0f6-2677fcf7021f"
      },
      "source": [
        "#tf.reset_default_graph()\n",
        "\n",
        "history = AccuracyHistory()\n",
        "\n",
        "test_acc = []\n",
        "test_loss = []\n",
        "\n",
        "prova = np.arange(2900).reshape(145,20)\n",
        "loo = LeaveOneOut()\n",
        "for train_index, test_index in loo.split(prova):\n",
        "    test_x = np.zeros(shape=(20,INPUT_DIM))\n",
        "    train_x = np.zeros(shape=(2880,INPUT_DIM))\n",
        "    test_y = np.zeros(shape=(20,552))\n",
        "    train_y = np.zeros(shape=(2880,552))\n",
        "    for ind, index in enumerate(prova[test_index[0]]):\n",
        "        #print(index)\n",
        "        test_x[ind] = descs_reshape[index]\n",
        "        test_y[ind] = boundaries_lv[index]\n",
        "    for ind, index in enumerate(prova[train_index].reshape(2880)):\n",
        "        #print(index)\n",
        "        train_x[ind] = descs_reshape[index]\n",
        "        train_y[ind] = boundaries_lv[index]\n",
        "        \n",
        "    x_train, x_dev, y_train, y_dev = train_test_split(train_x, train_y, test_size=0.2, random_state = 42, shuffle = True) # 0.2 test_size means 20%\n",
        "        \n",
        "    data = model.fit(\n",
        "        x=x_train, \n",
        "        y=y_train, \n",
        "        batch_size=64, \n",
        "        epochs=100,\n",
        "        validation_data=(x_dev, y_dev),\n",
        "        shuffle=True,\n",
        "        callbacks=[history],\n",
        "        verbose = 0\n",
        "    )\n",
        "    \n",
        "    print(\"Evaluating test...\")\n",
        "    loss_acc = model.evaluate(test_x, test_y, verbose=1)\n",
        "    test_loss.append(loss_acc[0])\n",
        "    test_acc.append(loss_acc[1])\n",
        "    \n",
        "model.save('gdrive/My Drive/Progetto NN/logging/model_keras.ckpt')"
      ],
      "execution_count": null,
      "outputs": [
        {
          "output_type": "stream",
          "text": [
            "\n",
            "Starting training, iteration 1\n",
            "Ended training, iteration 1\n",
            "mean_squared_error: 28.073761 - loss: 3.8000388277901544 - val_mean_squared_error: 24.932882 - val_loss: 3.568121486239963\n",
            "Evaluating test...\n",
            "20/20 [==============================] - 0s 87us/sample - loss: 2.8867 - mean_squared_error: 15.0197\n",
            "\n",
            "Starting training, iteration 2\n",
            "Ended training, iteration 2\n",
            "mean_squared_error: 26.672005 - loss: 3.6348961657947965 - val_mean_squared_error: 23.685347 - val_loss: 3.324177000257704\n",
            "Evaluating test...\n",
            "20/20 [==============================] - 0s 98us/sample - loss: 3.9358 - mean_squared_error: 34.7049\n",
            "\n",
            "Starting training, iteration 3\n",
            "Ended training, iteration 3\n",
            "mean_squared_error: 26.2018 - loss: 3.572752442624834 - val_mean_squared_error: 24.15945 - val_loss: 3.343023353152805\n",
            "Evaluating test...\n",
            "20/20 [==============================] - 0s 107us/sample - loss: 3.2330 - mean_squared_error: 22.0533\n",
            "\n",
            "Starting training, iteration 4\n",
            "Ended training, iteration 4\n",
            "mean_squared_error: 14.228455 - loss: 2.726850430170695 - val_mean_squared_error: 12.004964 - val_loss: 2.517346885469225\n",
            "Evaluating test...\n",
            "20/20 [==============================] - 0s 78us/sample - loss: 3.4085 - mean_squared_error: 20.6383\n",
            "\n",
            "Starting training, iteration 5\n",
            "Ended training, iteration 5\n",
            "mean_squared_error: 8.835355 - loss: 2.154885318544176 - val_mean_squared_error: 7.1644535 - val_loss: 1.9861929946475558\n",
            "Evaluating test...\n",
            "20/20 [==============================] - 0s 86us/sample - loss: 1.7344 - mean_squared_error: 5.8561\n",
            "\n",
            "Starting training, iteration 6\n",
            "Ended training, iteration 6\n",
            "mean_squared_error: 7.095803 - loss: 1.9471282594733768 - val_mean_squared_error: 5.689409 - val_loss: 1.7226115862528484\n",
            "Evaluating test...\n",
            "20/20 [==============================] - 0s 82us/sample - loss: 1.3590 - mean_squared_error: 4.1500\n",
            "\n",
            "Starting training, iteration 7\n",
            "Ended training, iteration 7\n",
            "mean_squared_error: 6.1983995 - loss: 1.8320623967382643 - val_mean_squared_error: 5.2111993 - val_loss: 1.6590734190411038\n",
            "Evaluating test...\n",
            "20/20 [==============================] - 0s 87us/sample - loss: 1.9130 - mean_squared_error: 5.4985\n",
            "\n",
            "Starting training, iteration 8\n",
            "Ended training, iteration 8\n",
            "mean_squared_error: 5.6375456 - loss: 1.7555767860677507 - val_mean_squared_error: 4.3855677 - val_loss: 1.541456593407525\n",
            "Evaluating test...\n",
            "20/20 [==============================] - 0s 80us/sample - loss: 1.4268 - mean_squared_error: 4.2056\n",
            "\n",
            "Starting training, iteration 9\n",
            "Ended training, iteration 9\n",
            "mean_squared_error: 5.0980816 - loss: 1.6604651576942868 - val_mean_squared_error: 4.103724 - val_loss: 1.4599162075254652\n",
            "Evaluating test...\n",
            "20/20 [==============================] - 0s 79us/sample - loss: 1.1396 - mean_squared_error: 2.6424\n",
            "\n",
            "Starting training, iteration 10\n",
            "Ended training, iteration 10\n",
            "mean_squared_error: 4.837884 - loss: 1.6136268741554685 - val_mean_squared_error: 4.0317044 - val_loss: 1.4733998113208346\n",
            "Evaluating test...\n",
            "20/20 [==============================] - 0s 83us/sample - loss: 1.6460 - mean_squared_error: 4.6694\n",
            "\n",
            "Starting training, iteration 11\n",
            "Ended training, iteration 11\n",
            "mean_squared_error: 4.595686 - loss: 1.5704216361045837 - val_mean_squared_error: 3.3064036 - val_loss: 1.3120737738079495\n",
            "Evaluating test...\n",
            "20/20 [==============================] - 0s 76us/sample - loss: 1.2132 - mean_squared_error: 2.1999\n",
            "\n",
            "Starting training, iteration 12\n",
            "Ended training, iteration 12\n",
            "mean_squared_error: 4.340727 - loss: 1.5205453601148393 - val_mean_squared_error: 3.3131275 - val_loss: 1.3201815287272136\n",
            "Evaluating test...\n",
            "20/20 [==============================] - 0s 105us/sample - loss: 1.0945 - mean_squared_error: 2.1962\n",
            "\n",
            "Starting training, iteration 13\n",
            "Ended training, iteration 13\n",
            "mean_squared_error: 3.9777286 - loss: 1.456182085805469 - val_mean_squared_error: 3.2431273 - val_loss: 1.3141113387213812\n",
            "Evaluating test...\n",
            "20/20 [==============================] - 0s 85us/sample - loss: 1.3203 - mean_squared_error: 3.2021\n",
            "\n",
            "Starting training, iteration 14\n",
            "Ended training, iteration 14\n",
            "mean_squared_error: 3.9843283 - loss: 1.4482257664203644 - val_mean_squared_error: 2.6421726 - val_loss: 1.169504655732049\n",
            "Evaluating test...\n",
            "20/20 [==============================] - 0s 85us/sample - loss: 0.9865 - mean_squared_error: 2.0139\n",
            "\n",
            "Starting training, iteration 15\n",
            "Ended training, iteration 15\n",
            "mean_squared_error: 3.8002887 - loss: 1.413850896888309 - val_mean_squared_error: 2.8781636 - val_loss: 1.2364323536554973\n",
            "Evaluating test...\n",
            "20/20 [==============================] - 0s 76us/sample - loss: 1.0169 - mean_squared_error: 1.8424\n",
            "\n",
            "Starting training, iteration 16\n",
            "Ended training, iteration 16\n",
            "mean_squared_error: 3.6205564 - loss: 1.3814935584863026 - val_mean_squared_error: 3.201888 - val_loss: 1.3193183872434828\n",
            "Evaluating test...\n",
            "20/20 [==============================] - 0s 83us/sample - loss: 1.1502 - mean_squared_error: 2.5126\n",
            "\n",
            "Starting training, iteration 17\n",
            "Ended training, iteration 17\n",
            "mean_squared_error: 3.5937128 - loss: 1.3695985310607486 - val_mean_squared_error: 2.57385 - val_loss: 1.1483958562215169\n",
            "Evaluating test...\n",
            "20/20 [==============================] - 0s 78us/sample - loss: 1.1539 - mean_squared_error: 2.2992\n",
            "\n",
            "Starting training, iteration 18\n",
            "Ended training, iteration 18\n",
            "mean_squared_error: 3.4113302 - loss: 1.3357227974467807 - val_mean_squared_error: 2.7924178 - val_loss: 1.222510470284356\n",
            "Evaluating test...\n",
            "20/20 [==============================] - 0s 98us/sample - loss: 1.4372 - mean_squared_error: 3.2152\n",
            "\n",
            "Starting training, iteration 19\n",
            "Ended training, iteration 19\n",
            "mean_squared_error: 3.431592 - loss: 1.3230500221252441 - val_mean_squared_error: 2.9367948 - val_loss: 1.2561679946051703\n",
            "Evaluating test...\n",
            "20/20 [==============================] - 0s 77us/sample - loss: 2.6381 - mean_squared_error: 11.4510\n",
            "\n",
            "Starting training, iteration 20\n",
            "Ended training, iteration 20\n",
            "mean_squared_error: 3.199406 - loss: 1.2949098944664001 - val_mean_squared_error: 2.2995546 - val_loss: 1.0870756440692477\n",
            "Evaluating test...\n",
            "20/20 [==============================] - 0s 80us/sample - loss: 1.3047 - mean_squared_error: 2.7035\n",
            "\n",
            "Starting training, iteration 21\n",
            "Ended training, iteration 21\n",
            "mean_squared_error: 3.152907 - loss: 1.2788323760032654 - val_mean_squared_error: 2.5020761 - val_loss: 1.1496003336376615\n",
            "Evaluating test...\n",
            "20/20 [==============================] - 0s 97us/sample - loss: 1.2353 - mean_squared_error: 2.5254\n",
            "\n",
            "Starting training, iteration 22\n",
            "Ended training, iteration 22\n",
            "mean_squared_error: 3.200935 - loss: 1.2867076231373682 - val_mean_squared_error: 2.4009275 - val_loss: 1.116415090031094\n",
            "Evaluating test...\n",
            "20/20 [==============================] - 0s 77us/sample - loss: 1.6800 - mean_squared_error: 5.1072\n",
            "\n",
            "Starting training, iteration 23\n",
            "Ended training, iteration 23\n",
            "mean_squared_error: 3.1957273 - loss: 1.2814712557527754 - val_mean_squared_error: 2.3131611 - val_loss: 1.0822657611634996\n",
            "Evaluating test...\n",
            "20/20 [==============================] - 0s 82us/sample - loss: 0.8548 - mean_squared_error: 1.1922\n",
            "\n",
            "Starting training, iteration 24\n",
            "Ended training, iteration 24\n",
            "mean_squared_error: 3.1433456 - loss: 1.2694327433904011 - val_mean_squared_error: 2.4042025 - val_loss: 1.127863499853346\n",
            "Evaluating test...\n",
            "20/20 [==============================] - 0s 81us/sample - loss: 1.3670 - mean_squared_error: 4.4173\n",
            "\n",
            "Starting training, iteration 25\n",
            "Ended training, iteration 25\n",
            "mean_squared_error: 3.0058887 - loss: 1.2509840528170268 - val_mean_squared_error: 2.4470255 - val_loss: 1.150211320983039\n",
            "Evaluating test...\n",
            "20/20 [==============================] - 0s 77us/sample - loss: 1.1613 - mean_squared_error: 2.5931\n",
            "\n",
            "Starting training, iteration 26\n",
            "Ended training, iteration 26\n",
            "mean_squared_error: 3.024662 - loss: 1.2471236255433824 - val_mean_squared_error: 2.1841583 - val_loss: 1.0524818632337782\n",
            "Evaluating test...\n",
            "20/20 [==============================] - 0s 81us/sample - loss: 0.9760 - mean_squared_error: 1.7007\n",
            "\n",
            "Starting training, iteration 27\n",
            "Ended training, iteration 27\n",
            "mean_squared_error: 2.932191 - loss: 1.2280256350835164 - val_mean_squared_error: 2.298124 - val_loss: 1.1035666465759277\n",
            "Evaluating test...\n",
            "20/20 [==============================] - 0s 82us/sample - loss: 1.1096 - mean_squared_error: 2.2116\n",
            "\n",
            "Starting training, iteration 28\n",
            "Ended training, iteration 28\n",
            "mean_squared_error: 2.8872077 - loss: 1.2128487924734752 - val_mean_squared_error: 2.2915246 - val_loss: 1.094746470451355\n",
            "Evaluating test...\n",
            "20/20 [==============================] - 0s 96us/sample - loss: 1.0921 - mean_squared_error: 2.5042\n",
            "\n",
            "Starting training, iteration 29\n",
            "Ended training, iteration 29\n",
            "mean_squared_error: 2.9324758 - loss: 1.2240357365873125 - val_mean_squared_error: 2.187042 - val_loss: 1.0605106486214533\n",
            "Evaluating test...\n",
            "20/20 [==============================] - 0s 80us/sample - loss: 0.9147 - mean_squared_error: 1.5209\n",
            "\n",
            "Starting training, iteration 30\n",
            "Ended training, iteration 30\n",
            "mean_squared_error: 2.967758 - loss: 1.2226014865769281 - val_mean_squared_error: 2.2742174 - val_loss: 1.0783961084153917\n",
            "Evaluating test...\n",
            "20/20 [==============================] - 0s 82us/sample - loss: 0.9730 - mean_squared_error: 1.7820\n",
            "\n",
            "Starting training, iteration 31\n",
            "Ended training, iteration 31\n",
            "mean_squared_error: 2.800516 - loss: 1.186873197555542 - val_mean_squared_error: 2.0188398 - val_loss: 1.014837874306573\n",
            "Evaluating test...\n",
            "20/20 [==============================] - 0s 80us/sample - loss: 1.1801 - mean_squared_error: 2.2265\n",
            "\n",
            "Starting training, iteration 32\n",
            "Ended training, iteration 32\n",
            "mean_squared_error: 2.861539 - loss: 1.2004361781809065 - val_mean_squared_error: 1.954743 - val_loss: 1.0066261755095587\n",
            "Evaluating test...\n",
            "20/20 [==============================] - 0s 86us/sample - loss: 3.2480 - mean_squared_error: 20.9278\n",
            "\n",
            "Starting training, iteration 33\n",
            "Ended training, iteration 33\n",
            "mean_squared_error: 2.762063 - loss: 1.177069991827011 - val_mean_squared_error: 1.9435992 - val_loss: 0.9907726645469666\n",
            "Evaluating test...\n",
            "20/20 [==============================] - 0s 75us/sample - loss: 1.4845 - mean_squared_error: 3.5314\n",
            "\n",
            "Starting training, iteration 34\n",
            "Ended training, iteration 34\n",
            "mean_squared_error: 2.7944973 - loss: 1.180448936091529 - val_mean_squared_error: 2.152529 - val_loss: 1.0727945698632135\n",
            "Evaluating test...\n",
            "20/20 [==============================] - 0s 96us/sample - loss: 0.9266 - mean_squared_error: 1.4176\n",
            "\n",
            "Starting training, iteration 35\n",
            "Ended training, iteration 35\n",
            "mean_squared_error: 2.736171 - loss: 1.1775358584192064 - val_mean_squared_error: 2.0434058 - val_loss: 1.0380919641918607\n",
            "Evaluating test...\n",
            "20/20 [==============================] - 0s 82us/sample - loss: 1.3057 - mean_squared_error: 2.8702\n",
            "\n",
            "Starting training, iteration 36\n",
            "Ended training, iteration 36\n",
            "mean_squared_error: 2.736949 - loss: 1.1647302541467879 - val_mean_squared_error: 1.971935 - val_loss: 0.9996791614426507\n",
            "Evaluating test...\n",
            "20/20 [==============================] - 0s 111us/sample - loss: 1.2819 - mean_squared_error: 2.7831\n",
            "\n",
            "Starting training, iteration 37\n",
            "Ended training, iteration 37\n",
            "mean_squared_error: 2.6113591 - loss: 1.1487732264730666 - val_mean_squared_error: 2.040542 - val_loss: 1.0303908718956842\n",
            "Evaluating test...\n",
            "20/20 [==============================] - 0s 81us/sample - loss: 0.8569 - mean_squared_error: 1.3564\n",
            "\n",
            "Starting training, iteration 38\n",
            "Ended training, iteration 38\n",
            "mean_squared_error: 2.5557911 - loss: 1.1374516487121582 - val_mean_squared_error: 2.0524588 - val_loss: 1.026775512430403\n",
            "Evaluating test...\n",
            "20/20 [==============================] - 0s 91us/sample - loss: 1.4970 - mean_squared_error: 4.8667\n",
            "\n",
            "Starting training, iteration 39\n",
            "Ended training, iteration 39\n",
            "mean_squared_error: 2.578546 - loss: 1.1341280606057909 - val_mean_squared_error: 2.0075264 - val_loss: 1.032742698987325\n",
            "Evaluating test...\n",
            "20/20 [==============================] - 0s 83us/sample - loss: 1.4790 - mean_squared_error: 3.6260\n",
            "\n",
            "Starting training, iteration 40\n",
            "Ended training, iteration 40\n",
            "mean_squared_error: 2.5639539 - loss: 1.1361467060115602 - val_mean_squared_error: 1.9118017 - val_loss: 0.9781323075294495\n",
            "Evaluating test...\n",
            "20/20 [==============================] - 0s 76us/sample - loss: 0.9997 - mean_squared_error: 1.8198\n",
            "\n",
            "Starting training, iteration 41\n",
            "Ended training, iteration 41\n",
            "mean_squared_error: 2.6600027 - loss: 1.1536243094338312 - val_mean_squared_error: 1.7290635 - val_loss: 0.9287073214848837\n",
            "Evaluating test...\n",
            "20/20 [==============================] - 0s 82us/sample - loss: 0.7097 - mean_squared_error: 1.0168\n",
            "\n",
            "Starting training, iteration 42\n",
            "Ended training, iteration 42\n",
            "mean_squared_error: 2.6547844 - loss: 1.1394968032836914 - val_mean_squared_error: 1.8395517 - val_loss: 0.9682763682471381\n",
            "Evaluating test...\n",
            "20/20 [==============================] - 0s 84us/sample - loss: 0.8908 - mean_squared_error: 1.2949\n",
            "\n",
            "Starting training, iteration 43\n",
            "Ended training, iteration 43\n",
            "mean_squared_error: 2.4818444 - loss: 1.1149291892846425 - val_mean_squared_error: 1.8735805 - val_loss: 0.9696450961960686\n",
            "Evaluating test...\n",
            "20/20 [==============================] - 0s 85us/sample - loss: 0.7319 - mean_squared_error: 0.8931\n",
            "\n",
            "Starting training, iteration 44\n",
            "Ended training, iteration 44\n",
            "mean_squared_error: 2.5680919 - loss: 1.1224819752905104 - val_mean_squared_error: 1.803644 - val_loss: 0.9486559960577223\n",
            "Evaluating test...\n",
            "20/20 [==============================] - 0s 90us/sample - loss: 0.8851 - mean_squared_error: 1.3937\n",
            "\n",
            "Starting training, iteration 45\n",
            "Ended training, iteration 45\n",
            "mean_squared_error: 2.5331273 - loss: 1.1175044642554388 - val_mean_squared_error: 1.9745394 - val_loss: 1.0240444077385797\n",
            "Evaluating test...\n",
            "20/20 [==============================] - 0s 81us/sample - loss: 1.0028 - mean_squared_error: 1.7301\n",
            "\n",
            "Starting training, iteration 46\n",
            "Ended training, iteration 46\n",
            "mean_squared_error: 2.5452535 - loss: 1.1150202833943896 - val_mean_squared_error: 1.6794916 - val_loss: 0.9213334123293558\n",
            "Evaluating test...\n",
            "20/20 [==============================] - 0s 89us/sample - loss: 0.9520 - mean_squared_error: 1.6416\n",
            "\n",
            "Starting training, iteration 47\n",
            "Ended training, iteration 47\n",
            "mean_squared_error: 2.4444568 - loss: 1.097729765706592 - val_mean_squared_error: 1.7397603 - val_loss: 0.9334101478258768\n",
            "Evaluating test...\n",
            "20/20 [==============================] - 0s 77us/sample - loss: 0.9708 - mean_squared_error: 1.7136\n",
            "\n",
            "Starting training, iteration 48\n",
            "Ended training, iteration 48\n",
            "mean_squared_error: 2.5182157 - loss: 1.104558762576845 - val_mean_squared_error: 1.8753335 - val_loss: 0.9746019045511881\n",
            "Evaluating test...\n",
            "20/20 [==============================] - 0s 97us/sample - loss: 1.1345 - mean_squared_error: 2.5054\n",
            "\n",
            "Starting training, iteration 49\n",
            "Ended training, iteration 49\n",
            "mean_squared_error: 2.5216942 - loss: 1.1084828592009015 - val_mean_squared_error: 1.8275523 - val_loss: 0.9573711686664157\n",
            "Evaluating test...\n",
            "20/20 [==============================] - 0s 100us/sample - loss: 1.0406 - mean_squared_error: 1.8439\n",
            "\n",
            "Starting training, iteration 50\n",
            "Ended training, iteration 50\n",
            "mean_squared_error: 2.4844103 - loss: 1.097678393125534 - val_mean_squared_error: 1.695103 - val_loss: 0.9291128185060289\n",
            "Evaluating test...\n",
            "20/20 [==============================] - 0s 78us/sample - loss: 1.1914 - mean_squared_error: 2.5743\n",
            "\n",
            "Starting training, iteration 51\n",
            "Ended training, iteration 51\n",
            "mean_squared_error: 2.5732458 - loss: 1.1174889372454748 - val_mean_squared_error: 1.6704936 - val_loss: 0.9036741521623399\n",
            "Evaluating test...\n",
            "20/20 [==============================] - 0s 75us/sample - loss: 1.1053 - mean_squared_error: 2.2719\n",
            "\n",
            "Starting training, iteration 52\n",
            "Ended training, iteration 52\n",
            "mean_squared_error: 2.3465238 - loss: 1.0725043846501245 - val_mean_squared_error: 1.6248134 - val_loss: 0.8967139853371514\n",
            "Evaluating test...\n",
            "20/20 [==============================] - 0s 85us/sample - loss: 0.6483 - mean_squared_error: 0.7013\n",
            "\n",
            "Starting training, iteration 53\n",
            "Ended training, iteration 53\n",
            "mean_squared_error: 2.4298959 - loss: 1.0895034654272928 - val_mean_squared_error: 1.6788659 - val_loss: 0.9120760162671407\n",
            "Evaluating test...\n",
            "20/20 [==============================] - 0s 76us/sample - loss: 1.0122 - mean_squared_error: 1.6470\n",
            "\n",
            "Starting training, iteration 54\n",
            "Ended training, iteration 54\n",
            "mean_squared_error: 2.4390857 - loss: 1.0864754998021655 - val_mean_squared_error: 1.6988362 - val_loss: 0.9355394840240479\n",
            "Evaluating test...\n",
            "20/20 [==============================] - 0s 74us/sample - loss: 0.8298 - mean_squared_error: 1.1645\n",
            "\n",
            "Starting training, iteration 55\n",
            "Ended training, iteration 55\n",
            "mean_squared_error: 2.421055 - loss: 1.0798001620504591 - val_mean_squared_error: 1.6380019 - val_loss: 0.9110102785958184\n",
            "Evaluating test...\n",
            "20/20 [==============================] - 0s 85us/sample - loss: 1.1779 - mean_squared_error: 2.5468\n",
            "\n",
            "Starting training, iteration 56\n",
            "Ended training, iteration 56\n",
            "mean_squared_error: 2.4107285 - loss: 1.0758480976025264 - val_mean_squared_error: 1.6026654 - val_loss: 0.8861515124638876\n",
            "Evaluating test...\n",
            "20/20 [==============================] - 0s 78us/sample - loss: 0.7849 - mean_squared_error: 1.0216\n",
            "\n",
            "Starting training, iteration 57\n",
            "Ended training, iteration 57\n",
            "mean_squared_error: 2.5212865 - loss: 1.0966671473450131 - val_mean_squared_error: 1.6908611 - val_loss: 0.906026025613149\n",
            "Evaluating test...\n",
            "20/20 [==============================] - 0s 82us/sample - loss: 0.9905 - mean_squared_error: 1.7052\n",
            "\n",
            "Starting training, iteration 58\n",
            "Ended training, iteration 58\n",
            "mean_squared_error: 2.3562965 - loss: 1.0716449055406783 - val_mean_squared_error: 1.792645 - val_loss: 0.9596717490090264\n",
            "Evaluating test...\n",
            "20/20 [==============================] - 0s 88us/sample - loss: 0.8492 - mean_squared_error: 1.2647\n",
            "\n",
            "Starting training, iteration 59\n",
            "Ended training, iteration 59\n",
            "mean_squared_error: 2.4738932 - loss: 1.08341655962997 - val_mean_squared_error: 1.7151507 - val_loss: 0.9226434694396125\n",
            "Evaluating test...\n",
            "20/20 [==============================] - 0s 101us/sample - loss: 1.1160 - mean_squared_error: 2.4296\n",
            "\n",
            "Starting training, iteration 60\n",
            "Ended training, iteration 60\n",
            "mean_squared_error: 2.2271614 - loss: 1.0439693762196436 - val_mean_squared_error: 1.8368884 - val_loss: 0.9629005524847243\n",
            "Evaluating test...\n",
            "20/20 [==============================] - 0s 83us/sample - loss: 1.0713 - mean_squared_error: 2.0524\n",
            "\n",
            "Starting training, iteration 61\n",
            "Ended training, iteration 61\n",
            "mean_squared_error: 2.3970256 - loss: 1.0620088163349364 - val_mean_squared_error: 1.4541881 - val_loss: 0.8650333881378174\n",
            "Evaluating test...\n",
            "20/20 [==============================] - 0s 90us/sample - loss: 1.1425 - mean_squared_error: 4.3563\n",
            "\n",
            "Starting training, iteration 62\n",
            "Ended training, iteration 62\n",
            "mean_squared_error: 2.4849832 - loss: 1.0886876102950838 - val_mean_squared_error: 1.5628047 - val_loss: 0.9074643850326538\n",
            "Evaluating test...\n",
            "20/20 [==============================] - 0s 82us/sample - loss: 0.9900 - mean_squared_error: 1.6690\n",
            "\n",
            "Starting training, iteration 63\n",
            "Ended training, iteration 63\n",
            "mean_squared_error: 2.3830636 - loss: 1.0661428968111675 - val_mean_squared_error: 1.7622703 - val_loss: 0.9491694039768643\n",
            "Evaluating test...\n",
            "20/20 [==============================] - 0s 79us/sample - loss: 1.1769 - mean_squared_error: 2.4162\n",
            "\n",
            "Starting training, iteration 64\n",
            "Ended training, iteration 64\n",
            "mean_squared_error: 2.457594 - loss: 1.0765340311659708 - val_mean_squared_error: 1.3791457 - val_loss: 0.8469319542249044\n",
            "Evaluating test...\n",
            "20/20 [==============================] - 0s 82us/sample - loss: 1.0137 - mean_squared_error: 1.5850\n",
            "\n",
            "Starting training, iteration 65\n",
            "Ended training, iteration 65\n",
            "mean_squared_error: 2.5159137 - loss: 1.0962485786941316 - val_mean_squared_error: 1.5374379 - val_loss: 0.897747536500295\n",
            "Evaluating test...\n",
            "20/20 [==============================] - 0s 96us/sample - loss: 0.7230 - mean_squared_error: 0.8631\n",
            "\n",
            "Starting training, iteration 66\n",
            "Ended training, iteration 66\n",
            "mean_squared_error: 2.4965017 - loss: 1.0782408780521817 - val_mean_squared_error: 1.4685569 - val_loss: 0.8735708395640055\n",
            "Evaluating test...\n",
            "20/20 [==============================] - 0s 98us/sample - loss: 0.8763 - mean_squared_error: 1.3772\n",
            "\n",
            "Starting training, iteration 67\n",
            "Ended training, iteration 67\n",
            "mean_squared_error: 2.4233327 - loss: 1.066420391201973 - val_mean_squared_error: 1.5281435 - val_loss: 0.8903369175063239\n",
            "Evaluating test...\n",
            "20/20 [==============================] - 0s 77us/sample - loss: 0.9248 - mean_squared_error: 1.3772\n",
            "\n",
            "Starting training, iteration 68\n",
            "Ended training, iteration 68\n",
            "mean_squared_error: 2.356326 - loss: 1.06077545384566 - val_mean_squared_error: 1.5822176 - val_loss: 0.9035204119152493\n",
            "Evaluating test...\n",
            "20/20 [==============================] - 0s 105us/sample - loss: 0.8283 - mean_squared_error: 1.3304\n",
            "\n",
            "Starting training, iteration 69\n",
            "Ended training, iteration 69\n",
            "mean_squared_error: 2.3941586 - loss: 1.064745416243871 - val_mean_squared_error: 1.5363367 - val_loss: 0.9001843068334792\n",
            "Evaluating test...\n",
            "20/20 [==============================] - 0s 84us/sample - loss: 1.0886 - mean_squared_error: 1.9562\n",
            "\n",
            "Starting training, iteration 70\n",
            "Ended training, iteration 70\n",
            "mean_squared_error: 2.3892455 - loss: 1.0599179599020216 - val_mean_squared_error: 1.5901222 - val_loss: 0.9134027229415046\n",
            "Evaluating test...\n",
            "20/20 [==============================] - 0s 77us/sample - loss: 0.8958 - mean_squared_error: 1.4596\n",
            "\n",
            "Starting training, iteration 71\n",
            "Ended training, iteration 71\n",
            "mean_squared_error: 2.388754 - loss: 1.0554380698336496 - val_mean_squared_error: 1.4571558 - val_loss: 0.8650074601173401\n",
            "Evaluating test...\n",
            "20/20 [==============================] - 0s 84us/sample - loss: 0.7321 - mean_squared_error: 0.8850\n",
            "\n",
            "Starting training, iteration 72\n",
            "Ended training, iteration 72\n",
            "mean_squared_error: 2.4916968 - loss: 1.071562056740125 - val_mean_squared_error: 1.5375141 - val_loss: 0.8955227202839322\n",
            "Evaluating test...\n",
            "20/20 [==============================] - 0s 97us/sample - loss: 0.8270 - mean_squared_error: 1.3222\n",
            "\n",
            "Starting training, iteration 73\n",
            "Ended training, iteration 73\n",
            "mean_squared_error: 2.30906 - loss: 1.0469680577516556 - val_mean_squared_error: 1.4586562 - val_loss: 0.8727814621395535\n",
            "Evaluating test...\n",
            "20/20 [==============================] - 0s 80us/sample - loss: 0.9892 - mean_squared_error: 1.6678\n",
            "\n",
            "Starting training, iteration 74\n",
            "Ended training, iteration 74\n",
            "mean_squared_error: 2.3888073 - loss: 1.0557718972365062 - val_mean_squared_error: 1.5209525 - val_loss: 0.8947789536582099\n",
            "Evaluating test...\n",
            "20/20 [==============================] - 0s 87us/sample - loss: 0.9114 - mean_squared_error: 1.6810\n",
            "\n",
            "Starting training, iteration 75\n",
            "Ended training, iteration 75\n",
            "mean_squared_error: 2.3566086 - loss: 1.0567098905642827 - val_mean_squared_error: 1.4808329 - val_loss: 0.8784507976637946\n",
            "Evaluating test...\n",
            "20/20 [==============================] - 0s 78us/sample - loss: 1.0515 - mean_squared_error: 2.0985\n",
            "\n",
            "Starting training, iteration 76\n",
            "Ended training, iteration 76\n",
            "mean_squared_error: 2.4027193 - loss: 1.0646526614824932 - val_mean_squared_error: 1.4907082 - val_loss: 0.8894060982598199\n",
            "Evaluating test...\n",
            "20/20 [==============================] - 0s 100us/sample - loss: 0.8606 - mean_squared_error: 1.1736\n",
            "\n",
            "Starting training, iteration 77\n",
            "Ended training, iteration 77\n",
            "mean_squared_error: 2.3845632 - loss: 1.0643587824371126 - val_mean_squared_error: 1.4012297 - val_loss: 0.8529182275136312\n",
            "Evaluating test...\n",
            "20/20 [==============================] - 0s 74us/sample - loss: 1.1308 - mean_squared_error: 2.0927\n",
            "\n",
            "Starting training, iteration 78\n",
            "Ended training, iteration 78\n",
            "mean_squared_error: 2.347104 - loss: 1.0448962565925386 - val_mean_squared_error: 1.506416 - val_loss: 0.8799562984042697\n",
            "Evaluating test...\n",
            "20/20 [==============================] - 0s 78us/sample - loss: 0.9310 - mean_squared_error: 1.4852\n",
            "\n",
            "Starting training, iteration 79\n",
            "Ended training, iteration 79\n",
            "mean_squared_error: 2.3500319 - loss: 1.0485745122035344 - val_mean_squared_error: 1.3925112 - val_loss: 0.8566950758298238\n",
            "Evaluating test...\n",
            "20/20 [==============================] - 0s 77us/sample - loss: 1.0146 - mean_squared_error: 1.6529\n",
            "\n",
            "Starting training, iteration 80\n",
            "Ended training, iteration 80\n",
            "mean_squared_error: 2.2458906 - loss: 1.03303272359901 - val_mean_squared_error: 1.5356909 - val_loss: 0.9009301066398621\n",
            "Evaluating test...\n",
            "20/20 [==============================] - 0s 89us/sample - loss: 1.0024 - mean_squared_error: 1.6079\n",
            "\n",
            "Starting training, iteration 81\n",
            "Ended training, iteration 81\n",
            "mean_squared_error: 2.3667166 - loss: 1.0520410670174494 - val_mean_squared_error: 1.4040871 - val_loss: 0.8561590181456672\n",
            "Evaluating test...\n",
            "20/20 [==============================] - 0s 105us/sample - loss: 0.9161 - mean_squared_error: 1.4957\n",
            "\n",
            "Starting training, iteration 82\n",
            "Ended training, iteration 82\n",
            "mean_squared_error: 2.3156886 - loss: 1.0381532791588042 - val_mean_squared_error: 1.4775968 - val_loss: 0.8743754625320435\n",
            "Evaluating test...\n",
            "20/20 [==============================] - 0s 80us/sample - loss: 0.7638 - mean_squared_error: 0.9440\n",
            "\n",
            "Starting training, iteration 83\n",
            "Ended training, iteration 83\n",
            "mean_squared_error: 2.240808 - loss: 1.0269897596703634 - val_mean_squared_error: 1.4016824 - val_loss: 0.8522017333242629\n",
            "Evaluating test...\n",
            "20/20 [==============================] - 0s 80us/sample - loss: 0.7368 - mean_squared_error: 0.9575\n",
            "\n",
            "Starting training, iteration 84\n",
            "Ended training, iteration 84\n",
            "mean_squared_error: 2.397048 - loss: 1.0556742664840486 - val_mean_squared_error: 1.5163863 - val_loss: 0.8786574403444926\n",
            "Evaluating test...\n",
            "20/20 [==============================] - 0s 80us/sample - loss: 0.8671 - mean_squared_error: 1.3682\n",
            "\n",
            "Starting training, iteration 85\n",
            "Ended training, iteration 85\n",
            "mean_squared_error: 2.297724 - loss: 1.0370896127488878 - val_mean_squared_error: 1.4927377 - val_loss: 0.8773329456647238\n",
            "Evaluating test...\n",
            "20/20 [==============================] - 0s 78us/sample - loss: 0.8603 - mean_squared_error: 1.5025\n",
            "\n",
            "Starting training, iteration 86\n",
            "Ended training, iteration 86\n",
            "mean_squared_error: 2.2476048 - loss: 1.0277487188577652 - val_mean_squared_error: 1.496282 - val_loss: 0.8815155161751641\n",
            "Evaluating test...\n",
            "20/20 [==============================] - 0s 85us/sample - loss: 0.9951 - mean_squared_error: 1.7840\n",
            "\n",
            "Starting training, iteration 87\n",
            "Ended training, iteration 87\n",
            "mean_squared_error: 2.2597158 - loss: 1.0259447279903624 - val_mean_squared_error: 1.5415587 - val_loss: 0.8849115702841017\n",
            "Evaluating test...\n",
            "20/20 [==============================] - 0s 77us/sample - loss: 0.9142 - mean_squared_error: 1.4873\n",
            "\n",
            "Starting training, iteration 88\n",
            "Ended training, iteration 88\n",
            "mean_squared_error: 2.2524195 - loss: 1.0260356316963832 - val_mean_squared_error: 1.4879966 - val_loss: 0.8812233209609985\n",
            "Evaluating test...\n",
            "20/20 [==============================] - 0s 95us/sample - loss: 0.7646 - mean_squared_error: 0.9558\n",
            "\n",
            "Starting training, iteration 89\n",
            "Ended training, iteration 89\n",
            "mean_squared_error: 2.2875967 - loss: 1.0327311125066545 - val_mean_squared_error: 1.4541192 - val_loss: 0.8564020726415846\n",
            "Evaluating test...\n",
            "20/20 [==============================] - 0s 76us/sample - loss: 1.0263 - mean_squared_error: 1.7873\n",
            "\n",
            "Starting training, iteration 90\n",
            "Ended training, iteration 90\n",
            "mean_squared_error: 2.4058533 - loss: 1.0563158343235652 - val_mean_squared_error: 1.4748168 - val_loss: 0.8710670669873556\n",
            "Evaluating test...\n",
            "20/20 [==============================] - 0s 105us/sample - loss: 0.8702 - mean_squared_error: 1.4997\n",
            "\n",
            "Starting training, iteration 91\n",
            "Ended training, iteration 91\n",
            "mean_squared_error: 2.3537393 - loss: 1.0490162356032267 - val_mean_squared_error: 1.463896 - val_loss: 0.8639513850212097\n",
            "Evaluating test...\n",
            "20/20 [==============================] - 0s 86us/sample - loss: 0.9432 - mean_squared_error: 1.6307\n",
            "\n",
            "Starting training, iteration 92\n",
            "Ended training, iteration 92\n",
            "mean_squared_error: 2.3436055 - loss: 1.0452376504739125 - val_mean_squared_error: 1.4644485 - val_loss: 0.8641832802030776\n",
            "Evaluating test...\n",
            "20/20 [==============================] - 0s 76us/sample - loss: 1.2605 - mean_squared_error: 2.7984\n",
            "\n",
            "Starting training, iteration 93\n",
            "Ended training, iteration 93\n",
            "mean_squared_error: 2.3145628 - loss: 1.0397259129418268 - val_mean_squared_error: 1.5206 - val_loss: 0.8777998288472494\n",
            "Evaluating test...\n",
            "20/20 [==============================] - 0s 103us/sample - loss: 0.9822 - mean_squared_error: 1.7097\n",
            "\n",
            "Starting training, iteration 94\n",
            "Ended training, iteration 94\n",
            "mean_squared_error: 2.3523436 - loss: 1.0431422723664179 - val_mean_squared_error: 1.5312781 - val_loss: 0.8740326431062486\n",
            "Evaluating test...\n",
            "20/20 [==============================] - 0s 83us/sample - loss: 0.9224 - mean_squared_error: 1.5637\n",
            "\n",
            "Starting training, iteration 95\n",
            "Ended training, iteration 95\n",
            "mean_squared_error: 2.3861082 - loss: 1.0423440900113847 - val_mean_squared_error: 1.4889259 - val_loss: 0.8684486945470175\n",
            "Evaluating test...\n",
            "20/20 [==============================] - 0s 74us/sample - loss: 1.0526 - mean_squared_error: 2.0160\n",
            "\n",
            "Starting training, iteration 96\n",
            "Ended training, iteration 96\n",
            "mean_squared_error: 2.2497735 - loss: 1.0206945952441957 - val_mean_squared_error: 1.483414 - val_loss: 0.8695640630192227\n",
            "Evaluating test...\n",
            "20/20 [==============================] - 0s 73us/sample - loss: 1.2416 - mean_squared_error: 2.6886\n",
            "\n",
            "Starting training, iteration 97\n",
            "Ended training, iteration 97\n",
            "mean_squared_error: 2.316679 - loss: 1.0388680613703198 - val_mean_squared_error: 1.4413983 - val_loss: 0.8570545448197259\n",
            "Evaluating test...\n",
            "20/20 [==============================] - 0s 79us/sample - loss: 0.9705 - mean_squared_error: 1.6866\n",
            "\n",
            "Starting training, iteration 98\n",
            "Ended training, iteration 98\n",
            "mean_squared_error: 2.2653286 - loss: 1.0261631790134642 - val_mean_squared_error: 1.474601 - val_loss: 0.8703705337312486\n",
            "Evaluating test...\n",
            "20/20 [==============================] - 0s 91us/sample - loss: 1.0949 - mean_squared_error: 2.2754\n",
            "\n",
            "Starting training, iteration 99\n",
            "Ended training, iteration 99\n",
            "mean_squared_error: 2.2941678 - loss: 1.0307406220171187 - val_mean_squared_error: 1.4424133 - val_loss: 0.8556859493255615\n",
            "Evaluating test...\n",
            "20/20 [==============================] - 0s 80us/sample - loss: 0.9225 - mean_squared_error: 1.3539\n",
            "\n",
            "Starting training, iteration 100\n",
            "Ended training, iteration 100\n",
            "mean_squared_error: 2.2910428 - loss: 1.0380857305394278 - val_mean_squared_error: 1.3539927 - val_loss: 0.8228173719512092\n",
            "Evaluating test...\n",
            "20/20 [==============================] - 0s 82us/sample - loss: 0.9644 - mean_squared_error: 1.6878\n",
            "\n",
            "Starting training, iteration 101\n",
            "Ended training, iteration 101\n",
            "mean_squared_error: 2.3446093 - loss: 1.039250147011545 - val_mean_squared_error: 1.4456983 - val_loss: 0.863587412569258\n",
            "Evaluating test...\n",
            "20/20 [==============================] - 0s 101us/sample - loss: 0.8383 - mean_squared_error: 1.2456\n",
            "\n",
            "Starting training, iteration 102\n",
            "Ended training, iteration 102\n",
            "mean_squared_error: 2.301173 - loss: 1.0378176536824968 - val_mean_squared_error: 1.4024026 - val_loss: 0.8407027853859795\n",
            "Evaluating test...\n",
            "20/20 [==============================] - 0s 93us/sample - loss: 0.9334 - mean_squared_error: 1.4787\n",
            "\n",
            "Starting training, iteration 103\n",
            "Ended training, iteration 103\n",
            "mean_squared_error: 2.3049273 - loss: 1.0371526959869597 - val_mean_squared_error: 1.4561666 - val_loss: 0.851698100566864\n",
            "Evaluating test...\n",
            "20/20 [==============================] - 0s 78us/sample - loss: 0.9528 - mean_squared_error: 1.5423\n",
            "\n",
            "Starting training, iteration 104\n",
            "Ended training, iteration 104\n",
            "mean_squared_error: 2.3879669 - loss: 1.0431231641107135 - val_mean_squared_error: 1.4471349 - val_loss: 0.8629038996166654\n",
            "Evaluating test...\n",
            "20/20 [==============================] - 0s 83us/sample - loss: 0.9787 - mean_squared_error: 1.8017\n",
            "\n",
            "Starting training, iteration 105\n",
            "Ended training, iteration 105\n",
            "mean_squared_error: 2.410026 - loss: 1.0542988843388028 - val_mean_squared_error: 1.4586277 - val_loss: 0.8502432240380181\n",
            "Evaluating test...\n",
            "20/20 [==============================] - 0s 78us/sample - loss: 1.1868 - mean_squared_error: 2.2676\n",
            "\n",
            "Starting training, iteration 106\n",
            "Ended training, iteration 106\n",
            "mean_squared_error: 2.3523738 - loss: 1.0481713049941592 - val_mean_squared_error: 1.3748113 - val_loss: 0.8365011943711175\n",
            "Evaluating test...\n",
            "20/20 [==============================] - 0s 175us/sample - loss: 0.7361 - mean_squared_error: 1.0521\n",
            "\n",
            "Starting training, iteration 107\n",
            "Ended training, iteration 107\n",
            "mean_squared_error: 2.3010058 - loss: 1.0380593571397994 - val_mean_squared_error: 1.3857211 - val_loss: 0.8375385204950968\n",
            "Evaluating test...\n",
            "20/20 [==============================] - 0s 88us/sample - loss: 1.1739 - mean_squared_error: 2.5511\n",
            "\n",
            "Starting training, iteration 108\n",
            "Ended training, iteration 108\n",
            "mean_squared_error: 2.2868488 - loss: 1.0311281465821795 - val_mean_squared_error: 1.5887301 - val_loss: 0.8903172214825948\n",
            "Evaluating test...\n",
            "20/20 [==============================] - 0s 87us/sample - loss: 0.7900 - mean_squared_error: 1.0750\n",
            "\n",
            "Starting training, iteration 109\n",
            "Ended training, iteration 109\n",
            "mean_squared_error: 2.3945446 - loss: 1.0367130355702505 - val_mean_squared_error: 1.4170841 - val_loss: 0.8477208349439833\n",
            "Evaluating test...\n",
            "20/20 [==============================] - 0s 99us/sample - loss: 0.8533 - mean_squared_error: 1.4847\n",
            "\n",
            "Starting training, iteration 110\n",
            "Ended training, iteration 110\n",
            "mean_squared_error: 2.1707537 - loss: 1.011633472310172 - val_mean_squared_error: 1.4859903 - val_loss: 0.863084528181288\n",
            "Evaluating test...\n",
            "20/20 [==============================] - 0s 105us/sample - loss: 0.8063 - mean_squared_error: 0.9970\n",
            "\n",
            "Starting training, iteration 111\n",
            "Ended training, iteration 111\n",
            "mean_squared_error: 2.2842326 - loss: 1.014367903272311 - val_mean_squared_error: 1.4617826 - val_loss: 0.8618852959738837\n",
            "Evaluating test...\n",
            "20/20 [==============================] - 0s 80us/sample - loss: 0.8397 - mean_squared_error: 1.2422\n",
            "\n",
            "Starting training, iteration 112\n",
            "Ended training, iteration 112\n",
            "mean_squared_error: 2.2936432 - loss: 1.032315793964598 - val_mean_squared_error: 1.4801157 - val_loss: 0.8629559146033393\n",
            "Evaluating test...\n",
            "20/20 [==============================] - 0s 79us/sample - loss: 0.7788 - mean_squared_error: 1.2521\n",
            "\n",
            "Starting training, iteration 113\n",
            "Ended training, iteration 113\n",
            "mean_squared_error: 2.295436 - loss: 1.028851052125295 - val_mean_squared_error: 1.3964972 - val_loss: 0.8374887771076627\n",
            "Evaluating test...\n",
            "20/20 [==============================] - 0s 76us/sample - loss: 0.8212 - mean_squared_error: 1.1327\n",
            "\n",
            "Starting training, iteration 114\n",
            "Ended training, iteration 114\n",
            "mean_squared_error: 2.3487823 - loss: 1.0278994358248181 - val_mean_squared_error: 1.378638 - val_loss: 0.8380023903316922\n",
            "Evaluating test...\n",
            "20/20 [==============================] - 0s 80us/sample - loss: 1.2755 - mean_squared_error: 2.6800\n",
            "\n",
            "Starting training, iteration 115\n",
            "Ended training, iteration 115\n",
            "mean_squared_error: 2.276816 - loss: 1.032601652873887 - val_mean_squared_error: 1.3998067 - val_loss: 0.8424663808610704\n",
            "Evaluating test...\n",
            "20/20 [==============================] - 0s 83us/sample - loss: 0.8373 - mean_squared_error: 1.3823\n",
            "\n",
            "Starting training, iteration 116\n",
            "Ended training, iteration 116\n",
            "mean_squared_error: 2.2361326 - loss: 1.0174673530790541 - val_mean_squared_error: 1.4426014 - val_loss: 0.8560173776414659\n",
            "Evaluating test...\n",
            "20/20 [==============================] - 0s 81us/sample - loss: 1.0762 - mean_squared_error: 2.2855\n",
            "\n",
            "Starting training, iteration 117\n",
            "Ended training, iteration 117\n",
            "mean_squared_error: 2.2083824 - loss: 1.0232312596506543 - val_mean_squared_error: 1.4712033 - val_loss: 0.8675243722067939\n",
            "Evaluating test...\n",
            "20/20 [==============================] - 0s 91us/sample - loss: 0.7625 - mean_squared_error: 0.9885\n",
            "\n",
            "Starting training, iteration 118\n",
            "Ended training, iteration 118\n",
            "mean_squared_error: 2.183052 - loss: 1.0164436383379831 - val_mean_squared_error: 1.4079236 - val_loss: 0.8454789982901679\n",
            "Evaluating test...\n",
            "20/20 [==============================] - 0s 81us/sample - loss: 1.0549 - mean_squared_error: 1.7375\n",
            "\n",
            "Starting training, iteration 119\n",
            "Ended training, iteration 119\n",
            "mean_squared_error: 2.3624306 - loss: 1.0396076672606998 - val_mean_squared_error: 1.4407926 - val_loss: 0.8559909595383538\n",
            "Evaluating test...\n",
            "20/20 [==============================] - 0s 79us/sample - loss: 0.8070 - mean_squared_error: 1.3305\n",
            "\n",
            "Starting training, iteration 120\n",
            "Ended training, iteration 120\n",
            "mean_squared_error: 2.3681931 - loss: 1.0380240562889311 - val_mean_squared_error: 1.4270711 - val_loss: 0.8492327200041877\n",
            "Evaluating test...\n",
            "20/20 [==============================] - 0s 96us/sample - loss: 1.0363 - mean_squared_error: 1.9502\n",
            "\n",
            "Starting training, iteration 121\n",
            "Ended training, iteration 121\n",
            "mean_squared_error: 2.2379465 - loss: 1.0181056757767994 - val_mean_squared_error: 1.4919301 - val_loss: 0.8704217672348022\n",
            "Evaluating test...\n",
            "20/20 [==============================] - 0s 96us/sample - loss: 0.8484 - mean_squared_error: 1.4438\n",
            "\n",
            "Starting training, iteration 122\n",
            "Ended training, iteration 122\n",
            "mean_squared_error: 2.23562 - loss: 1.0139513181315527 - val_mean_squared_error: 1.435228 - val_loss: 0.8596559233135648\n",
            "Evaluating test...\n",
            "20/20 [==============================] - 0s 81us/sample - loss: 1.0275 - mean_squared_error: 1.7884\n",
            "\n",
            "Starting training, iteration 123\n",
            "Ended training, iteration 123\n",
            "mean_squared_error: 2.3104427 - loss: 1.0322772512833278 - val_mean_squared_error: 1.455427 - val_loss: 0.8562399281395806\n",
            "Evaluating test...\n",
            "20/20 [==============================] - 0s 81us/sample - loss: 1.5649 - mean_squared_error: 4.1450\n",
            "\n",
            "Starting training, iteration 124\n",
            "Ended training, iteration 124\n",
            "mean_squared_error: 2.2905374 - loss: 1.0243958466582828 - val_mean_squared_error: 1.4761739 - val_loss: 0.8608738978703817\n",
            "Evaluating test...\n",
            "20/20 [==============================] - 0s 81us/sample - loss: 0.7983 - mean_squared_error: 1.0212\n",
            "\n",
            "Starting training, iteration 125\n",
            "Ended training, iteration 125\n",
            "mean_squared_error: 2.3917837 - loss: 1.034557256433699 - val_mean_squared_error: 1.3947606 - val_loss: 0.8473035958078172\n",
            "Evaluating test...\n",
            "20/20 [==============================] - 0s 102us/sample - loss: 0.7583 - mean_squared_error: 1.0674\n",
            "\n",
            "Starting training, iteration 126\n",
            "Ended training, iteration 126\n",
            "mean_squared_error: 2.316408 - loss: 1.0342402805884678 - val_mean_squared_error: 1.473888 - val_loss: 0.8561421036720276\n",
            "Evaluating test...\n",
            "20/20 [==============================] - 0s 82us/sample - loss: 0.9380 - mean_squared_error: 1.3998\n",
            "\n",
            "Starting training, iteration 127\n",
            "Ended training, iteration 127\n",
            "mean_squared_error: 2.321162 - loss: 1.0327605605125427 - val_mean_squared_error: 1.4419894 - val_loss: 0.8508722649680244\n",
            "Evaluating test...\n",
            "20/20 [==============================] - 0s 89us/sample - loss: 0.8009 - mean_squared_error: 1.2372\n",
            "\n",
            "Starting training, iteration 128\n",
            "Ended training, iteration 128\n",
            "mean_squared_error: 2.2359276 - loss: 1.0100562853945627 - val_mean_squared_error: 1.5254414 - val_loss: 0.878431604968177\n",
            "Evaluating test...\n",
            "20/20 [==============================] - 0s 84us/sample - loss: 0.9534 - mean_squared_error: 1.7965\n",
            "\n",
            "Starting training, iteration 129\n",
            "Ended training, iteration 129\n",
            "mean_squared_error: 2.4063654 - loss: 1.0523575809266832 - val_mean_squared_error: 1.4904925 - val_loss: 0.8682030108239915\n",
            "Evaluating test...\n",
            "20/20 [==============================] - 0s 99us/sample - loss: 0.8189 - mean_squared_error: 1.2100\n",
            "\n",
            "Starting training, iteration 130\n",
            "Ended training, iteration 130\n",
            "mean_squared_error: 2.2728727 - loss: 1.0210331678390503 - val_mean_squared_error: 1.393667 - val_loss: 0.8460413813591003\n",
            "Evaluating test...\n",
            "20/20 [==============================] - 0s 80us/sample - loss: 0.8850 - mean_squared_error: 1.5252\n",
            "\n",
            "Starting training, iteration 131\n",
            "Ended training, iteration 131\n",
            "mean_squared_error: 2.2094345 - loss: 1.020705896947119 - val_mean_squared_error: 1.424348 - val_loss: 0.8584445582495795\n",
            "Evaluating test...\n",
            "20/20 [==============================] - 0s 82us/sample - loss: 0.9264 - mean_squared_error: 1.4124\n",
            "\n",
            "Starting training, iteration 132\n",
            "Ended training, iteration 132\n",
            "mean_squared_error: 2.2646804 - loss: 1.0315599872006311 - val_mean_squared_error: 1.4466481 - val_loss: 0.8680605424775018\n",
            "Evaluating test...\n",
            "20/20 [==============================] - 0s 81us/sample - loss: 0.6737 - mean_squared_error: 0.7980\n",
            "\n",
            "Starting training, iteration 133\n",
            "Ended training, iteration 133\n",
            "mean_squared_error: 2.2920384 - loss: 1.0132645070552826 - val_mean_squared_error: 1.4366974 - val_loss: 0.847094025876787\n",
            "Evaluating test...\n",
            "20/20 [==============================] - 0s 81us/sample - loss: 0.6944 - mean_squared_error: 0.8692\n",
            "\n",
            "Starting training, iteration 134\n",
            "Ended training, iteration 134\n",
            "mean_squared_error: 2.38539 - loss: 1.0357718169689178 - val_mean_squared_error: 1.3843064 - val_loss: 0.8446605073081123\n",
            "Evaluating test...\n",
            "20/20 [==============================] - 0s 81us/sample - loss: 0.7173 - mean_squared_error: 0.9325\n",
            "\n",
            "Starting training, iteration 135\n",
            "Ended training, iteration 135\n",
            "mean_squared_error: 2.2060554 - loss: 1.0116553786728117 - val_mean_squared_error: 1.501071 - val_loss: 0.8733383880721198\n",
            "Evaluating test...\n",
            "20/20 [==============================] - 0s 81us/sample - loss: 0.8181 - mean_squared_error: 1.1573\n",
            "\n",
            "Starting training, iteration 136\n",
            "Ended training, iteration 136\n",
            "mean_squared_error: 2.3367476 - loss: 1.0312524057096906 - val_mean_squared_error: 1.47352 - val_loss: 0.8724909424781799\n",
            "Evaluating test...\n",
            "20/20 [==============================] - 0s 80us/sample - loss: 0.7723 - mean_squared_error: 1.2595\n",
            "\n",
            "Starting training, iteration 137\n",
            "Ended training, iteration 137\n",
            "mean_squared_error: 2.3233132 - loss: 1.0341020011239581 - val_mean_squared_error: 1.4195033 - val_loss: 0.8532232112354703\n",
            "Evaluating test...\n",
            "20/20 [==============================] - 0s 103us/sample - loss: 1.0386 - mean_squared_error: 1.8432\n",
            "\n",
            "Starting training, iteration 138\n",
            "Ended training, iteration 138\n",
            "mean_squared_error: 2.2067864 - loss: 1.013419907954004 - val_mean_squared_error: 1.558927 - val_loss: 0.8856411841180589\n",
            "Evaluating test...\n",
            "20/20 [==============================] - 0s 79us/sample - loss: 0.6655 - mean_squared_error: 0.8616\n",
            "\n",
            "Starting training, iteration 139\n",
            "Ended training, iteration 139\n",
            "mean_squared_error: 2.2448301 - loss: 1.0247497492366366 - val_mean_squared_error: 1.3523496 - val_loss: 0.8388456437322829\n",
            "Evaluating test...\n",
            "20/20 [==============================] - 0s 77us/sample - loss: 0.9157 - mean_squared_error: 1.5060\n",
            "\n",
            "Starting training, iteration 140\n",
            "Ended training, iteration 140\n",
            "mean_squared_error: 2.2701757 - loss: 1.0201079381836786 - val_mean_squared_error: 1.4324815 - val_loss: 0.8578047288788689\n",
            "Evaluating test...\n",
            "20/20 [==============================] - 0s 78us/sample - loss: 0.7766 - mean_squared_error: 1.2610\n",
            "\n",
            "Starting training, iteration 141\n",
            "Ended training, iteration 141\n",
            "mean_squared_error: 2.3450334 - loss: 1.034199294116762 - val_mean_squared_error: 1.4387609 - val_loss: 0.8583737744225396\n",
            "Evaluating test...\n",
            "20/20 [==============================] - 0s 80us/sample - loss: 0.8704 - mean_squared_error: 1.5049\n",
            "\n",
            "Starting training, iteration 142\n",
            "Ended training, iteration 142\n",
            "mean_squared_error: 2.2890005 - loss: 1.0270868473582797 - val_mean_squared_error: 1.4966749 - val_loss: 0.8669579029083252\n",
            "Evaluating test...\n",
            "20/20 [==============================] - 0s 94us/sample - loss: 0.8925 - mean_squared_error: 1.3460\n",
            "\n",
            "Starting training, iteration 143\n",
            "Ended training, iteration 143\n",
            "mean_squared_error: 2.2887967 - loss: 1.0171873072783153 - val_mean_squared_error: 1.4315679 - val_loss: 0.8559138311280144\n",
            "Evaluating test...\n",
            "20/20 [==============================] - 0s 78us/sample - loss: 1.5661 - mean_squared_error: 4.2480\n",
            "\n",
            "Starting training, iteration 144\n",
            "Ended training, iteration 144\n",
            "mean_squared_error: 2.3988497 - loss: 1.038893433080779 - val_mean_squared_error: 1.4058948 - val_loss: 0.8476092484262254\n",
            "Evaluating test...\n",
            "20/20 [==============================] - 0s 96us/sample - loss: 0.6759 - mean_squared_error: 0.7154\n",
            "\n",
            "Starting training, iteration 145\n",
            "Ended training, iteration 145\n",
            "mean_squared_error: 2.4286258 - loss: 1.0340606653028064 - val_mean_squared_error: 1.5173703 - val_loss: 0.8626413080427382\n",
            "Evaluating test...\n",
            "20/20 [==============================] - 0s 94us/sample - loss: 0.7556 - mean_squared_error: 0.9320\n"
          ],
          "name": "stdout"
        }
      ]
    },
    {
      "cell_type": "markdown",
      "metadata": {
        "id": "tYCJ9oAEKy4Y"
      },
      "source": [
        "##Write results on file"
      ]
    },
    {
      "cell_type": "code",
      "metadata": {
        "id": "fR-nnnHaw0kC"
      },
      "source": [
        "'''with open('/content/gdrive/My Drive/Progetto NN/logging/data/accuracy_log.txt', 'w+') as f:\n",
        "  for line in history.acc:\n",
        "    f.write(str(line)+'\\n')\n",
        "\n",
        "with open('/content/gdrive/My Drive/Progetto NN/logging/data/loss_log.txt', 'w+') as f:\n",
        "  for line in history.loss:\n",
        "    f.write(str(line)+'\\n')\n",
        "    \n",
        "with open('/content/gdrive/My Drive/Progetto NN/logging/data/val_accuracy_log.txt', 'w+') as f:\n",
        "  for line in history.val_acc:\n",
        "    f.write(str(line)+'\\n')\n",
        "    \n",
        "with open('/content/gdrive/My Drive/Progetto NN/logging/data/val_loss_log.txt', 'w+') as f:\n",
        "  for line in history.val_loss:\n",
        "    f.write(str(line)+'\\n')\n",
        "    \n",
        "with open('/content/gdrive/My Drive/Progetto NN/logging/data/test_loss_log.txt', 'w+') as f:\n",
        "  for line in test_loss:\n",
        "    f.write(str(line)+'\\n')\n",
        "    \n",
        "with open('/content/gdrive/My Drive/Progetto NN/logging/data/test_acc_log.txt', 'w+') as f:\n",
        "  for line in test_acc:\n",
        "    f.write(str(line)+'\\n')'''"
      ],
      "execution_count": null,
      "outputs": []
    },
    {
      "cell_type": "markdown",
      "metadata": {
        "id": "ocqGdfh7K1wr"
      },
      "source": [
        "#Result Analysis"
      ]
    },
    {
      "cell_type": "markdown",
      "metadata": {
        "id": "VOJG0AiXK5AN"
      },
      "source": [
        "##DAISY feature extraction "
      ]
    },
    {
      "cell_type": "code",
      "metadata": {
        "id": "gowJQEwshxXZ"
      },
      "source": [
        "#generate test\n",
        "flag = False\n",
        "for i in range(0,600):\n",
        "    descs_test, descs_test_img = daisy(imms_test[:,:,i], step=20, radius=15, rings=2, histograms=6, orientations=8, visualize=True)\n",
        "    descs_test = descs_test.reshape(1,INPUT_DIM)\n",
        "    if not flag:\n",
        "        flag = True\n",
        "        descs_test_reshape = descs_test\n",
        "    else:\n",
        "        descs_test_reshape = np.concatenate((descs_test_reshape, descs_test), axis=0) "
      ],
      "execution_count": null,
      "outputs": []
    },
    {
      "cell_type": "markdown",
      "metadata": {
        "id": "gvKyiX2QLEWr"
      },
      "source": [
        "##Usefull functions to make the code more readable"
      ]
    },
    {
      "cell_type": "code",
      "metadata": {
        "id": "5avvFwKPHVTl"
      },
      "source": [
        "''' GetPoints function takes as input 2 arrays of same size N, X and Y.\n",
        "Returns as output an array of coordinates shaped (N,2)'''\n",
        "def GetPoints(x,y):\n",
        "  points = []\n",
        "  for x0, y0 in zip(x,y):\n",
        "    temp = []\n",
        "    temp.append(x0)\n",
        "    temp.append(y0)\n",
        "    points.append(temp)\n",
        "  return np.asarray(points)\n",
        "\n",
        "'''GetArea function takes as input 2 arrays of same size N, X and Y.\n",
        "Returns the area of the convex hull obtained from the coordinates defined\n",
        "by the function GetPoints(x,y)'''\n",
        "\n",
        "def GetArea(x,y):\n",
        "  p = GetPoints(x,y)\n",
        "  h = ConvexHull(p)\n",
        "  return h.volume\n",
        "\n",
        "'''\n",
        "GetDM function takes as input 4 arrays. 2 of size N, x_orig and y_orig, and 2 of\n",
        "size M, x_pred and y_pred. It computes the 2 convex hulls related to the 2 pairs\n",
        "of arrays, intersects them and gets the coordinates of the points of the convex\n",
        "hull of the intersection. Than computes the area of these 3 convex hulls.\n",
        "Returns the dice metric related to these 3 areas (explained in the report)\n",
        "'''\n",
        "\n",
        "def GetDM(x_orig, y_orig, x_pred, y_pred):\n",
        "  p1 = GetPoints(x_pred, y_pred)\n",
        "  p2 = GetPoints(x_orig, y_orig)\n",
        "\n",
        "  h1 = MultiPoint(p1).convex_hull\n",
        "  h2 = MultiPoint(p2).convex_hull\n",
        "\n",
        "  poly1 = ogr.CreateGeometryFromWkt(str(h1))\n",
        "  poly2 = ogr.CreateGeometryFromWkt(str(h2))\n",
        "\n",
        "  intersection = poly1.Intersection(poly2)\n",
        "  \n",
        "  strcoord = intersection.ExportToWkt().replace('POLYGON ((','').replace('))','').split(',')\n",
        "  coordinates = []\n",
        "  for coord in strcoord:\n",
        "    temp = coord.split()\n",
        "    for i in range(2):\n",
        "      try:\n",
        "        temp[i] = int(temp[i])\n",
        "      except ValueError:\n",
        "        temp[i] = float(temp[i])\n",
        "        temp[i] = int(temp[i])\n",
        "    coordinates.append(temp)\n",
        "  coordinates = np.asarray(coordinates)\n",
        "\n",
        "  hint = MultiPoint(coordinates).convex_hull\n",
        "\n",
        "  areaint = ConvexHull(coordinates).volume\n",
        "  areapred = ConvexHull(p1).volume\n",
        "  areaorig = ConvexHull(p2).volume\n",
        "\n",
        "  dm = 2 * areaint / (areapred + areaorig)\n",
        "\n",
        "  return dm\n",
        "\n",
        "'''\n",
        "DrawHull function draws, starting from a set of points, the related convex hull\n",
        "'''\n",
        "\n",
        "def DrawHull(x,y,c):\n",
        "  p = GetPoints(x,y)\n",
        "  h = ConvexHull(p)\n",
        "  for simplex in h.simplices:\n",
        "    plt.plot(p[simplex, 0], p[simplex, 1], c, linewidth = 2)\n",
        "    \n",
        "def GetBAP(data1, data2, name):\n",
        "    data1     = np.asarray(data1)\n",
        "    data2     = np.asarray(data2)\n",
        "    mean      = np.mean([data1, data2], axis=0)\n",
        "    diff      = data1 - data2                   # Difference between data1 and data2\n",
        "    md        = np.mean(diff)                   # Mean of the difference\n",
        "    sd        = np.std(diff, axis=0)            # Standard deviation of the difference\n",
        "\n",
        "    plt.scatter(mean, diff, label=name, c='orange', s=0.7)\n",
        "    plt.xlabel('Means')\n",
        "    plt.ylabel('Differences')\n",
        "    plt.axhline(md,           color='b', linestyle='-')\n",
        "    plt.axhline(md + 1.96*sd, color='r', linestyle='--')\n",
        "    plt.axhline(md - 1.96*sd, color='r', linestyle='--')"
      ],
      "execution_count": null,
      "outputs": []
    },
    {
      "cell_type": "markdown",
      "metadata": {
        "id": "18L9Hs3Txk0O"
      },
      "source": [
        "#Predictions"
      ]
    },
    {
      "cell_type": "code",
      "metadata": {
        "id": "igd6OjD-PBCW"
      },
      "source": [
        "model_load = tf.keras.models.load_model('gdrive/My Drive/Progetto NN/logging/model_keras.ckpt')"
      ],
      "execution_count": null,
      "outputs": []
    },
    {
      "cell_type": "code",
      "metadata": {
        "id": "dj7OqvOfagZl"
      },
      "source": [
        "pred = model_load.predict(descs_reshape)"
      ],
      "execution_count": null,
      "outputs": []
    },
    {
      "cell_type": "markdown",
      "metadata": {
        "id": "TDileHaWxt58"
      },
      "source": [
        "##Getting some random predictions on the entire set"
      ]
    },
    {
      "cell_type": "code",
      "metadata": {
        "id": "5iRM8b91PDAW"
      },
      "source": [
        "#Generate plot\n",
        "rand_gen = np.random.randint(0,2900,size=30)\n",
        "for val in rand_gen:\n",
        "  pred_x_epi = pred[val,0:157].astype(int)\n",
        "  pred_y_epi = pred[val,157:314].astype(int)\n",
        "  pred_x_endo = pred[val,314:433].astype(int)\n",
        "  pred_y_endo = pred[val,433:552].astype(int)\n",
        "\n",
        "  orig_x_epi = boundaries_lv[val,0:157]\n",
        "  orig_y_epi = boundaries_lv[val,157:314]\n",
        "  orig_x_endo = boundaries_lv[val,314:433]\n",
        "  orig_y_endo = boundaries_lv[val,433:552]\n",
        "\n",
        "  plt.figure(figsize=(4,4))\n",
        "  DrawHull(pred_x_endo,pred_y_endo,'r-')\n",
        "  DrawHull(pred_x_epi,pred_y_epi,'r-')\n",
        "  DrawHull(orig_x_epi,orig_y_epi,'y-')\n",
        "  DrawHull(orig_x_endo,orig_y_endo,'y-')\n",
        "  plt.savefig('gdrive/My Drive/Progetto NN/IMG/Cuori/{}.jpg'.format(val))\n",
        "  plt.show()"
      ],
      "execution_count": null,
      "outputs": []
    },
    {
      "cell_type": "markdown",
      "metadata": {
        "id": "5adb6ANYx2IV"
      },
      "source": [
        "##Plotting predicted coordinates"
      ]
    },
    {
      "cell_type": "code",
      "metadata": {
        "id": "IgQl7nXJYXZn",
        "colab": {
          "base_uri": "https://localhost:8080/",
          "height": 269
        },
        "outputId": "8ad5d5e1-1e44-4762-aba3-ce6aea8ad7b4"
      },
      "source": [
        "plt.plot(np.arange(119),pred[0,314:433].astype(int), label='x_endo')\n",
        "plt.plot(np.arange(157),pred[0,0:157].astype(int), label='x_epi')\n",
        "plt.plot(np.arange(157,314),pred[0,157:314].astype(int), label='y_epi')\n",
        "plt.plot(np.arange(157,276),pred[0,433:552].astype(int), label='y_endo')\n",
        "plt.legend(shadow = True)\n",
        "plt.grid(True)\n",
        "plt.savefig('plot.png')"
      ],
      "execution_count": null,
      "outputs": [
        {
          "output_type": "display_data",
          "data": {
            "image/png": "[encoded data removed]",
            "text/plain": [
              "<Figure size 432x288 with 1 Axes>"
            ]
          },
          "metadata": {
            "tags": []
          }
        }
      ]
    },
    {
      "cell_type": "markdown",
      "metadata": {
        "id": "knUhoQmzx7Wh"
      },
      "source": [
        "##Plotting original coordinates"
      ]
    },
    {
      "cell_type": "code",
      "metadata": {
        "id": "psYi8oHWhOZc",
        "colab": {
          "base_uri": "https://localhost:8080/",
          "height": 269
        },
        "outputId": "7f622012-4729-4326-97e0-22094546bf0a"
      },
      "source": [
        "plt.plot(np.arange(119),x_pad_endo[0], label='x_endo')\n",
        "plt.plot(np.arange(157),x_pad_epi[0], label='x_epi')\n",
        "plt.plot(np.arange(157,314),y_pad_epi[0], label='y_epi')\n",
        "plt.plot(np.arange(157,276),y_pad_endo[0], label='y_endo')\n",
        "plt.legend(shadow = True)\n",
        "plt.grid(True)\n",
        "plt.savefig('plot.png')"
      ],
      "execution_count": null,
      "outputs": [
        {
          "output_type": "display_data",
          "data": {
            "image/png": "[encoded data removed]",
            "text/plain": [
              "<Figure size 432x288 with 1 Axes>"
            ]
          },
          "metadata": {
            "tags": []
          }
        }
      ]
    },
    {
      "cell_type": "markdown",
      "metadata": {
        "id": "XQXFjK6pySMI"
      },
      "source": [
        "#Analysis"
      ]
    },
    {
      "cell_type": "markdown",
      "metadata": {
        "id": "edjv5Jh3x_KI"
      },
      "source": [
        "##Calculating values for testing"
      ]
    },
    {
      "cell_type": "code",
      "metadata": {
        "id": "p13zlqwwJpuU"
      },
      "source": [
        "dms_epi = []\n",
        "dms_endo = []\n",
        "pccs_epi_x = []\n",
        "pccs_epi_y = []\n",
        "pccs_endo_x = []\n",
        "pccs_endo_y = []\n",
        "dhs_epi = []\n",
        "dhs_endo = []\n",
        "areas_epi_pred = []\n",
        "areas_endo_pred = []\n",
        "areas_epi_orig = []\n",
        "areas_endo_orig = []\n",
        "\n",
        "for val in range(2900):\n",
        "  pred_x_epi = pred[val,0:157].astype(int)\n",
        "  pred_y_epi = pred[val,157:314].astype(int)\n",
        "  pred_x_endo = pred[val,314:433].astype(int)\n",
        "  pred_y_endo = pred[val,433:552].astype(int)\n",
        "\n",
        "  orig_x_epi = boundaries_lv[val,0:157]\n",
        "  orig_y_epi = boundaries_lv[val,157:314]\n",
        "  orig_x_endo = boundaries_lv[val,314:433]\n",
        "  orig_y_endo = boundaries_lv[val,433:552]\n",
        "  \n",
        "  dms_epi.append(GetDM(pred_x_epi, pred_y_epi, orig_x_epi, orig_y_epi))\n",
        "  dms_endo.append(GetDM(pred_x_endo, pred_y_endo, orig_x_endo, orig_y_endo))\n",
        "  pccs_epi_x.append(pcc(pred_x_epi, orig_x_epi)[0])\n",
        "  pccs_epi_y.append(pcc(pred_y_epi, orig_y_epi)[0])\n",
        "  pccs_endo_x.append(pcc(pred_x_endo, orig_x_endo)[0])\n",
        "  pccs_endo_y.append(pcc(pred_y_epi, orig_y_epi)[0])\n",
        "  dhs_epi.append(dh(GetPoints(orig_x_epi, orig_y_epi),GetPoints(pred_x_epi, pred_y_epi))[0])\n",
        "  dhs_endo.append(dh(GetPoints(orig_x_endo, orig_y_endo), GetPoints(pred_x_endo, pred_y_endo))[0])\n",
        "  areas_endo_pred.append(GetArea(pred_x_endo, pred_y_endo))\n",
        "  areas_epi_pred.append(GetArea(pred_x_epi, pred_y_epi))\n",
        "  areas_endo_orig.append(GetArea(orig_x_endo, orig_y_endo))\n",
        "  areas_epi_orig.append(GetArea(orig_x_epi, orig_y_epi))"
      ],
      "execution_count": null,
      "outputs": []
    },
    {
      "cell_type": "markdown",
      "metadata": {
        "id": "VLrZhA-_yD1X"
      },
      "source": [
        " ## Calculating average Dice Metric for each subject"
      ]
    },
    {
      "cell_type": "code",
      "metadata": {
        "id": "QtKPFUgvIR_7"
      },
      "source": [
        "dms_epi_subj = []\n",
        "dms_endo_subj = []\n",
        "\n",
        "for dm in range(145):\n",
        "  temp = (sum(dms_epi[dm*20:(dm+1)*20]) / len(dms_epi[dm*20:(dm+1)*20]))\n",
        "  dms_epi_subj.append(temp)\n",
        "  \n",
        "for dm in range(145):\n",
        "  temp = (sum(dms_endo[dm*20:(dm+1)*20]) / len(dms_endo[dm*20:(dm+1)*20]))\n",
        "  dms_endo_subj.append(temp)"
      ],
      "execution_count": null,
      "outputs": []
    },
    {
      "cell_type": "markdown",
      "metadata": {
        "id": "DLmYcBfgyLBS"
      },
      "source": [
        "##Plotting average Dice Metric for each subject"
      ]
    },
    {
      "cell_type": "code",
      "metadata": {
        "id": "xXxfdnCHMVUD",
        "colab": {
          "base_uri": "https://localhost:8080/",
          "height": 424
        },
        "outputId": "ed3f2a0a-8c4f-4196-a417-8f2b39f84bed"
      },
      "source": [
        "indices = np.arange(145)\n",
        "m_epi = sum(dms_epi_subj)/len(dms_epi_subj)\n",
        "m_endo = sum(dms_endo_subj)/len(dms_endo_subj)\n",
        "\n",
        "pari = []\n",
        "dispari = []\n",
        "\n",
        "for i in indices:\n",
        "  dispari.append(i)\n",
        "  pari.append(i+0.5)\n",
        "\n",
        "plt.figure(figsize=(20,6))\n",
        "plt.title('Average DM')\n",
        "plt.bar(pari,[x for x in dms_epi_subj], label='Epicardium', width=0.45)\n",
        "plt.bar(dispari,[x for x in dms_endo_subj], label='Endocardium', width=0.45)\n",
        "plt.xlabel('Subject #')\n",
        "plt.ylabel('DM Value')\n",
        "plt.axhline(m_epi, linestyle='-', label = 'Epi_mean')\n",
        "plt.text(-5,0.98,'{}'.format(round(m_epi,2)))\n",
        "plt.axhline(m_endo, color='orange', linestyle='-', label='Endo_mean')\n",
        "plt.text(-5,0.915,'{}'.format(round(m_endo,2)))\n",
        "plt.legend()\n",
        "plt.xticks([0,24,24*2,24*3,24*4,24*5,24*6])\n",
        "plt.savefig('gdrive/My Drive/Progetto NN/IMG/bars.png', bbox_inches='tight')"
      ],
      "execution_count": null,
      "outputs": [
        {
          "output_type": "display_data",
          "data": {
            "image/png": "[encoded data removed]",
            "text/plain": [
              "<Figure size 1440x432 with 1 Axes>"
            ]
          },
          "metadata": {
            "tags": []
          }
        }
      ]
    },
    {
      "cell_type": "markdown",
      "metadata": {
        "id": "WqBPVO2jycRj"
      },
      "source": [
        "##Plotting Bland-Altman and Linear Regression Analysis"
      ]
    },
    {
      "cell_type": "code",
      "metadata": {
        "id": "0_E2SmpN-fcu",
        "colab": {
          "base_uri": "https://localhost:8080/",
          "height": 791
        },
        "outputId": "342a454d-b578-4bb1-dd02-77878d8b2265"
      },
      "source": [
        "plt.figure(figsize=(6,6))\n",
        "plt.title('Bland-Altman Analyisis')\n",
        "GetBAP(areas_epi_orig,areas_epi_pred, 'Epicardium')\n",
        "plt.legend()\n",
        "plt.savefig('/content/gdrive/My Drive/Progetto NN/IMG/BAP_epi.png')\n",
        "\n",
        "plt.figure(figsize=(6,6))\n",
        "plt.title('Bland-Altman Analyisis')\n",
        "GetBAP(areas_endo_orig,areas_endo_pred, 'Endocardium')\n",
        "plt.legend()\n",
        "plt.savefig('/content/gdrive/My Drive/Progetto NN/IMG/BAP_endo.png')"
      ],
      "execution_count": null,
      "outputs": [
        {
          "output_type": "display_data",
          "data": {
            "image/png": "[encoded data removed]",
            "text/plain": [
              "<Figure size 432x432 with 1 Axes>"
            ]
          },
          "metadata": {
            "tags": []
          }
        },
        {
          "output_type": "display_data",
          "data": {
            "image/png": "[encoded data removed]",
            "text/plain": [
              "<Figure size 432x432 with 1 Axes>"
            ]
          },
          "metadata": {
            "tags": []
          }
        }
      ]
    },
    {
      "cell_type": "code",
      "metadata": {
        "id": "G-vwvEXVcreu",
        "colab": {
          "base_uri": "https://localhost:8080/",
          "height": 791
        },
        "outputId": "75b80e99-2a5f-48a6-c709-99e6896bab30"
      },
      "source": [
        "plt.figure(figsize=(6,6))\n",
        "plt.title('Linear Regression Analysis')\n",
        "plt.scatter(np.asarray(areas_epi_pred), np.asarray(areas_epi_orig), s=0.5, c='b', label ='Epicardium')\n",
        "plt.xlabel('Manual Boundaries')\n",
        "plt.ylabel('Predicted Boundaries')\n",
        "plt.plot([500,2500], [500,2500], c='r')\n",
        "plt.legend()\n",
        "plt.savefig('/content/gdrive/My Drive/Progetto NN/IMG/blue.png')\n",
        "\n",
        "plt.figure(figsize=(6,6))\n",
        "plt.title('Linear Regression Analysis')\n",
        "plt.scatter(np.asarray(areas_endo_pred), np.asarray(areas_endo_orig), s=0.5, c='b',  label ='Endocardium')\n",
        "plt.xlabel('Manual Boundaries')\n",
        "plt.ylabel('Predicted Boundaries')\n",
        "plt.plot([0,1400], [0,1400], c='r')\n",
        "plt.legend()\n",
        "plt.savefig('/content/gdrive/My Drive/Progetto NN/IMG/red.png')\n"
      ],
      "execution_count": null,
      "outputs": [
        {
          "output_type": "display_data",
          "data": {
            "image/png": "[encoded data removed]",
            "text/plain": [
              "<Figure size 432x432 with 1 Axes>"
            ]
          },
          "metadata": {
            "tags": []
          }
        },
        {
          "output_type": "display_data",
          "data": {
            "image/png": "[encoded data removed]",
            "text/plain": [
              "<Figure size 432x432 with 1 Axes>"
            ]
          },
          "metadata": {
            "tags": []
          }
        }
      ]
    },
    {
      "cell_type": "markdown",
      "metadata": {
        "id": "DylMhpUbyn7B"
      },
      "source": [
        "##Final Numerical Results"
      ]
    },
    {
      "cell_type": "code",
      "metadata": {
        "id": "BUHCVqNb--Lc",
        "colab": {
          "base_uri": "https://localhost:8080/",
          "height": 156
        },
        "outputId": "45dc9451-11c8-488e-a2a6-cf894f4739e3"
      },
      "source": [
        "print(sum(dms_endo) / len(dms_endo))\n",
        "print(sum(pccs_epi_x) / len(pccs_epi_x))\n",
        "print(sum(pccs_epi_y) / len(pccs_epi_y))\n",
        "print(sum(pccs_endo_x) / len(pccs_endo_x))\n",
        "print(sum(pccs_endo_y) / len(pccs_endo_y))\n",
        "print(sum(dhs_epi) / len(dhs_epi))\n",
        "print(sum(dhs_endo) / len(dhs_endo))"
      ],
      "execution_count": null,
      "outputs": [
        {
          "output_type": "stream",
          "text": [
            "0.9675672911657027\n",
            "0.950026817859011\n",
            "0.9986655510012755\n",
            "0.998086286224043\n",
            "0.9961231296384672\n",
            "0.998086286224043\n",
            "1.9671507424070347\n",
            "2.037605101478414\n"
          ],
          "name": "stdout"
        }
      ]
    }
  ]
}